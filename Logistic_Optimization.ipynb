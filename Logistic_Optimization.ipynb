{
 "cells": [
  {
   "cell_type": "markdown",
   "metadata": {},
   "source": [
    "<center><img src=\"https://paragonrouting-prod-site-assets.s3-eu-west-1.amazonaws.com/2020/01/Roure-Plan-Optimization-Graphic-1200x572.png\" width=\"800\" height=\"400\"></center>\n",
    "\n",
    "\n",
    "<b><h2><center>Logistic Optimization \n",
    "</center></h2></b>"
   ]
  },
  {
   "cell_type": "markdown",
   "metadata": {},
   "source": [
    "## Problem Statement"
   ]
  },
  {
   "cell_type": "markdown",
   "metadata": {},
   "source": [
    "### Business Context\n",
    "Your client for this week's challenge is Gokada - the largest last mile delivery service in Nigeria. Gokada Works is partnered with motorbike owners and drivers to deliver parcels across Lagos, Nigeria. Gokada has completed more than a million deliveries in less than a year, with a fleet of over 1200 riders.\n",
    "One key issue Gokada has faced as it expands its service is the sub-optimal placement of pilots (Gokada calls their motor drivers pilots) and clients who want to use Gokada to send their parcel. This has led to a high number of unfulfilled delivery requests. \n",
    "\n",
    "### Objective\n",
    "Help Gokada understand the primary causes of unfulfilled requests as well as come up with solutions that recommend drivers locations that increase the fraction of complete orders. Since drivers are paid based on the number of requests they accept, your solution will help Gokada business grow both in terms of client satisfaction and increased business. \n",
    "\n",
    "### Data Description\n",
    "`Dataset 1:`\n",
    "- id: Row index\n",
    "- order_id: order id\n",
    "- driver_id: driver id\n",
    "- driver_action: acceptance or rejection of request\n",
    "- lat: location\n",
    "- lng: location\n",
    "- created_at: NULL\n",
    "- updated_at: NULL\n",
    "\n",
    "\n",
    "`Dataset 2:`\n",
    "- trip id: trio id\n",
    "- trip_origin: trip origin\n",
    "- trip_destination: trip destination\n",
    "- trip start time: trip start time\n",
    "- trip end time: trip end time\n"
   ]
  },
  {
   "cell_type": "markdown",
   "metadata": {},
   "source": [
    "## Importing necessary libraries"
   ]
  },
  {
   "cell_type": "code",
   "execution_count": 282,
   "metadata": {},
   "outputs": [
    {
     "data": {
      "application/javascript": "(function(root) {\n  function now() {\n    return new Date();\n  }\n\n  var force = true;\n  var py_version = '3.4.1'.replace('rc', '-rc.').replace('.dev', '-dev.');\n  var reloading = false;\n  var Bokeh = root.Bokeh;\n\n  if (typeof (root._bokeh_timeout) === \"undefined\" || force) {\n    root._bokeh_timeout = Date.now() + 5000;\n    root._bokeh_failed_load = false;\n  }\n\n  function run_callbacks() {\n    try {\n      root._bokeh_onload_callbacks.forEach(function(callback) {\n        if (callback != null)\n          callback();\n      });\n    } finally {\n      delete root._bokeh_onload_callbacks;\n    }\n    console.debug(\"Bokeh: all callbacks have finished\");\n  }\n\n  function load_libs(css_urls, js_urls, js_modules, js_exports, callback) {\n    if (css_urls == null) css_urls = [];\n    if (js_urls == null) js_urls = [];\n    if (js_modules == null) js_modules = [];\n    if (js_exports == null) js_exports = {};\n\n    root._bokeh_onload_callbacks.push(callback);\n\n    if (root._bokeh_is_loading > 0) {\n      console.debug(\"Bokeh: BokehJS is being loaded, scheduling callback at\", now());\n      return null;\n    }\n    if (js_urls.length === 0 && js_modules.length === 0 && Object.keys(js_exports).length === 0) {\n      run_callbacks();\n      return null;\n    }\n    if (!reloading) {\n      console.debug(\"Bokeh: BokehJS not loaded, scheduling load and callback at\", now());\n    }\n\n    function on_load() {\n      root._bokeh_is_loading--;\n      if (root._bokeh_is_loading === 0) {\n        console.debug(\"Bokeh: all BokehJS libraries/stylesheets loaded\");\n        run_callbacks()\n      }\n    }\n    window._bokeh_on_load = on_load\n\n    function on_error() {\n      console.error(\"failed to load \" + url);\n    }\n\n    var skip = [];\n    if (window.requirejs) {\n      window.requirejs.config({'packages': {}, 'paths': {}, 'shim': {}});\n      root._bokeh_is_loading = css_urls.length + 0;\n    } else {\n      root._bokeh_is_loading = css_urls.length + js_urls.length + js_modules.length + Object.keys(js_exports).length;\n    }\n\n    var existing_stylesheets = []\n    var links = document.getElementsByTagName('link')\n    for (var i = 0; i < links.length; i++) {\n      var link = links[i]\n      if (link.href != null) {\n\texisting_stylesheets.push(link.href)\n      }\n    }\n    for (var i = 0; i < css_urls.length; i++) {\n      var url = css_urls[i];\n      if (existing_stylesheets.indexOf(url) !== -1) {\n\ton_load()\n\tcontinue;\n      }\n      const element = document.createElement(\"link\");\n      element.onload = on_load;\n      element.onerror = on_error;\n      element.rel = \"stylesheet\";\n      element.type = \"text/css\";\n      element.href = url;\n      console.debug(\"Bokeh: injecting link tag for BokehJS stylesheet: \", url);\n      document.body.appendChild(element);\n    }    var existing_scripts = []\n    var scripts = document.getElementsByTagName('script')\n    for (var i = 0; i < scripts.length; i++) {\n      var script = scripts[i]\n      if (script.src != null) {\n\texisting_scripts.push(script.src)\n      }\n    }\n    for (var i = 0; i < js_urls.length; i++) {\n      var url = js_urls[i];\n      if (skip.indexOf(url) !== -1 || existing_scripts.indexOf(url) !== -1) {\n\tif (!window.requirejs) {\n\t  on_load();\n\t}\n\tcontinue;\n      }\n      var element = document.createElement('script');\n      element.onload = on_load;\n      element.onerror = on_error;\n      element.async = false;\n      element.src = url;\n      console.debug(\"Bokeh: injecting script tag for BokehJS library: \", url);\n      document.head.appendChild(element);\n    }\n    for (var i = 0; i < js_modules.length; i++) {\n      var url = js_modules[i];\n      if (skip.indexOf(url) !== -1 || existing_scripts.indexOf(url) !== -1) {\n\tif (!window.requirejs) {\n\t  on_load();\n\t}\n\tcontinue;\n      }\n      var element = document.createElement('script');\n      element.onload = on_load;\n      element.onerror = on_error;\n      element.async = false;\n      element.src = url;\n      element.type = \"module\";\n      console.debug(\"Bokeh: injecting script tag for BokehJS library: \", url);\n      document.head.appendChild(element);\n    }\n    for (const name in js_exports) {\n      var url = js_exports[name];\n      if (skip.indexOf(url) >= 0 || root[name] != null) {\n\tif (!window.requirejs) {\n\t  on_load();\n\t}\n\tcontinue;\n      }\n      var element = document.createElement('script');\n      element.onerror = on_error;\n      element.async = false;\n      element.type = \"module\";\n      console.debug(\"Bokeh: injecting script tag for BokehJS library: \", url);\n      element.textContent = `\n      import ${name} from \"${url}\"\n      window.${name} = ${name}\n      window._bokeh_on_load()\n      `\n      document.head.appendChild(element);\n    }\n    if (!js_urls.length && !js_modules.length) {\n      on_load()\n    }\n  };\n\n  function inject_raw_css(css) {\n    const element = document.createElement(\"style\");\n    element.appendChild(document.createTextNode(css));\n    document.body.appendChild(element);\n  }\n\n  var js_urls = [\"https://cdn.bokeh.org/bokeh/release/bokeh-3.4.1.min.js\", \"https://cdn.bokeh.org/bokeh/release/bokeh-gl-3.4.1.min.js\", \"https://cdn.bokeh.org/bokeh/release/bokeh-widgets-3.4.1.min.js\", \"https://cdn.bokeh.org/bokeh/release/bokeh-tables-3.4.1.min.js\", \"https://cdn.holoviz.org/panel/1.4.4/dist/panel.min.js\"];\n  var js_modules = [];\n  var js_exports = {};\n  var css_urls = [];\n  var inline_js = [    function(Bokeh) {\n      Bokeh.set_log_level(\"info\");\n    },\nfunction(Bokeh) {} // ensure no trailing comma for IE\n  ];\n\n  function run_inline_js() {\n    if ((root.Bokeh !== undefined) || (force === true)) {\n      for (var i = 0; i < inline_js.length; i++) {\n\ttry {\n          inline_js[i].call(root, root.Bokeh);\n\t} catch(e) {\n\t  if (!reloading) {\n\t    throw e;\n\t  }\n\t}\n      }\n      // Cache old bokeh versions\n      if (Bokeh != undefined && !reloading) {\n\tvar NewBokeh = root.Bokeh;\n\tif (Bokeh.versions === undefined) {\n\t  Bokeh.versions = new Map();\n\t}\n\tif (NewBokeh.version !== Bokeh.version) {\n\t  Bokeh.versions.set(NewBokeh.version, NewBokeh)\n\t}\n\troot.Bokeh = Bokeh;\n      }} else if (Date.now() < root._bokeh_timeout) {\n      setTimeout(run_inline_js, 100);\n    } else if (!root._bokeh_failed_load) {\n      console.log(\"Bokeh: BokehJS failed to load within specified timeout.\");\n      root._bokeh_failed_load = true;\n    }\n    root._bokeh_is_initializing = false\n  }\n\n  function load_or_wait() {\n    // Implement a backoff loop that tries to ensure we do not load multiple\n    // versions of Bokeh and its dependencies at the same time.\n    // In recent versions we use the root._bokeh_is_initializing flag\n    // to determine whether there is an ongoing attempt to initialize\n    // bokeh, however for backward compatibility we also try to ensure\n    // that we do not start loading a newer (Panel>=1.0 and Bokeh>3) version\n    // before older versions are fully initialized.\n    if (root._bokeh_is_initializing && Date.now() > root._bokeh_timeout) {\n      root._bokeh_is_initializing = false;\n      root._bokeh_onload_callbacks = undefined;\n      console.log(\"Bokeh: BokehJS was loaded multiple times but one version failed to initialize.\");\n      load_or_wait();\n    } else if (root._bokeh_is_initializing || (typeof root._bokeh_is_initializing === \"undefined\" && root._bokeh_onload_callbacks !== undefined)) {\n      setTimeout(load_or_wait, 100);\n    } else {\n      root._bokeh_is_initializing = true\n      root._bokeh_onload_callbacks = []\n      var bokeh_loaded = Bokeh != null && (Bokeh.version === py_version || (Bokeh.versions !== undefined && Bokeh.versions.has(py_version)));\n      if (!reloading && !bokeh_loaded) {\n\troot.Bokeh = undefined;\n      }\n      load_libs(css_urls, js_urls, js_modules, js_exports, function() {\n\tconsole.debug(\"Bokeh: BokehJS plotting callback run at\", now());\n\trun_inline_js();\n      });\n    }\n  }\n  // Give older versions of the autoload script a head-start to ensure\n  // they initialize before we start loading newer version.\n  setTimeout(load_or_wait, 100)\n}(window));",
      "application/vnd.holoviews_load.v0+json": ""
     },
     "metadata": {},
     "output_type": "display_data"
    },
    {
     "data": {
      "application/javascript": "\nif ((window.PyViz === undefined) || (window.PyViz instanceof HTMLElement)) {\n  window.PyViz = {comms: {}, comm_status:{}, kernels:{}, receivers: {}, plot_index: []}\n}\n\n\n    function JupyterCommManager() {\n    }\n\n    JupyterCommManager.prototype.register_target = function(plot_id, comm_id, msg_handler) {\n      if (window.comm_manager || ((window.Jupyter !== undefined) && (Jupyter.notebook.kernel != null))) {\n        var comm_manager = window.comm_manager || Jupyter.notebook.kernel.comm_manager;\n        comm_manager.register_target(comm_id, function(comm) {\n          comm.on_msg(msg_handler);\n        });\n      } else if ((plot_id in window.PyViz.kernels) && (window.PyViz.kernels[plot_id])) {\n        window.PyViz.kernels[plot_id].registerCommTarget(comm_id, function(comm) {\n          comm.onMsg = msg_handler;\n        });\n      } else if (typeof google != 'undefined' && google.colab.kernel != null) {\n        google.colab.kernel.comms.registerTarget(comm_id, (comm) => {\n          var messages = comm.messages[Symbol.asyncIterator]();\n          function processIteratorResult(result) {\n            var message = result.value;\n            console.log(message)\n            var content = {data: message.data, comm_id};\n            var buffers = []\n            for (var buffer of message.buffers || []) {\n              buffers.push(new DataView(buffer))\n            }\n            var metadata = message.metadata || {};\n            var msg = {content, buffers, metadata}\n            msg_handler(msg);\n            return messages.next().then(processIteratorResult);\n          }\n          return messages.next().then(processIteratorResult);\n        })\n      }\n    }\n\n    JupyterCommManager.prototype.get_client_comm = function(plot_id, comm_id, msg_handler) {\n      if (comm_id in window.PyViz.comms) {\n        return window.PyViz.comms[comm_id];\n      } else if (window.comm_manager || ((window.Jupyter !== undefined) && (Jupyter.notebook.kernel != null))) {\n        var comm_manager = window.comm_manager || Jupyter.notebook.kernel.comm_manager;\n        var comm = comm_manager.new_comm(comm_id, {}, {}, {}, comm_id);\n        if (msg_handler) {\n          comm.on_msg(msg_handler);\n        }\n      } else if ((plot_id in window.PyViz.kernels) && (window.PyViz.kernels[plot_id])) {\n        var comm = window.PyViz.kernels[plot_id].connectToComm(comm_id);\n        comm.open();\n        if (msg_handler) {\n          comm.onMsg = msg_handler;\n        }\n      } else if (typeof google != 'undefined' && google.colab.kernel != null) {\n        var comm_promise = google.colab.kernel.comms.open(comm_id)\n        comm_promise.then((comm) => {\n          window.PyViz.comms[comm_id] = comm;\n          if (msg_handler) {\n            var messages = comm.messages[Symbol.asyncIterator]();\n            function processIteratorResult(result) {\n              var message = result.value;\n              var content = {data: message.data};\n              var metadata = message.metadata || {comm_id};\n              var msg = {content, metadata}\n              msg_handler(msg);\n              return messages.next().then(processIteratorResult);\n            }\n            return messages.next().then(processIteratorResult);\n          }\n        }) \n        var sendClosure = (data, metadata, buffers, disposeOnDone) => {\n          return comm_promise.then((comm) => {\n            comm.send(data, metadata, buffers, disposeOnDone);\n          });\n        };\n        var comm = {\n          send: sendClosure\n        };\n      }\n      window.PyViz.comms[comm_id] = comm;\n      return comm;\n    }\n    window.PyViz.comm_manager = new JupyterCommManager();\n    \n\n\nvar JS_MIME_TYPE = 'application/javascript';\nvar HTML_MIME_TYPE = 'text/html';\nvar EXEC_MIME_TYPE = 'application/vnd.holoviews_exec.v0+json';\nvar CLASS_NAME = 'output';\n\n/**\n * Render data to the DOM node\n */\nfunction render(props, node) {\n  var div = document.createElement(\"div\");\n  var script = document.createElement(\"script\");\n  node.appendChild(div);\n  node.appendChild(script);\n}\n\n/**\n * Handle when a new output is added\n */\nfunction handle_add_output(event, handle) {\n  var output_area = handle.output_area;\n  var output = handle.output;\n  if ((output.data == undefined) || (!output.data.hasOwnProperty(EXEC_MIME_TYPE))) {\n    return\n  }\n  var id = output.metadata[EXEC_MIME_TYPE][\"id\"];\n  var toinsert = output_area.element.find(\".\" + CLASS_NAME.split(' ')[0]);\n  if (id !== undefined) {\n    var nchildren = toinsert.length;\n    var html_node = toinsert[nchildren-1].children[0];\n    html_node.innerHTML = output.data[HTML_MIME_TYPE];\n    var scripts = [];\n    var nodelist = html_node.querySelectorAll(\"script\");\n    for (var i in nodelist) {\n      if (nodelist.hasOwnProperty(i)) {\n        scripts.push(nodelist[i])\n      }\n    }\n\n    scripts.forEach( function (oldScript) {\n      var newScript = document.createElement(\"script\");\n      var attrs = [];\n      var nodemap = oldScript.attributes;\n      for (var j in nodemap) {\n        if (nodemap.hasOwnProperty(j)) {\n          attrs.push(nodemap[j])\n        }\n      }\n      attrs.forEach(function(attr) { newScript.setAttribute(attr.name, attr.value) });\n      newScript.appendChild(document.createTextNode(oldScript.innerHTML));\n      oldScript.parentNode.replaceChild(newScript, oldScript);\n    });\n    if (JS_MIME_TYPE in output.data) {\n      toinsert[nchildren-1].children[1].textContent = output.data[JS_MIME_TYPE];\n    }\n    output_area._hv_plot_id = id;\n    if ((window.Bokeh !== undefined) && (id in Bokeh.index)) {\n      window.PyViz.plot_index[id] = Bokeh.index[id];\n    } else {\n      window.PyViz.plot_index[id] = null;\n    }\n  } else if (output.metadata[EXEC_MIME_TYPE][\"server_id\"] !== undefined) {\n    var bk_div = document.createElement(\"div\");\n    bk_div.innerHTML = output.data[HTML_MIME_TYPE];\n    var script_attrs = bk_div.children[0].attributes;\n    for (var i = 0; i < script_attrs.length; i++) {\n      toinsert[toinsert.length - 1].childNodes[1].setAttribute(script_attrs[i].name, script_attrs[i].value);\n    }\n    // store reference to server id on output_area\n    output_area._bokeh_server_id = output.metadata[EXEC_MIME_TYPE][\"server_id\"];\n  }\n}\n\n/**\n * Handle when an output is cleared or removed\n */\nfunction handle_clear_output(event, handle) {\n  var id = handle.cell.output_area._hv_plot_id;\n  var server_id = handle.cell.output_area._bokeh_server_id;\n  if (((id === undefined) || !(id in PyViz.plot_index)) && (server_id !== undefined)) { return; }\n  var comm = window.PyViz.comm_manager.get_client_comm(\"hv-extension-comm\", \"hv-extension-comm\", function () {});\n  if (server_id !== null) {\n    comm.send({event_type: 'server_delete', 'id': server_id});\n    return;\n  } else if (comm !== null) {\n    comm.send({event_type: 'delete', 'id': id});\n  }\n  delete PyViz.plot_index[id];\n  if ((window.Bokeh !== undefined) & (id in window.Bokeh.index)) {\n    var doc = window.Bokeh.index[id].model.document\n    doc.clear();\n    const i = window.Bokeh.documents.indexOf(doc);\n    if (i > -1) {\n      window.Bokeh.documents.splice(i, 1);\n    }\n  }\n}\n\n/**\n * Handle kernel restart event\n */\nfunction handle_kernel_cleanup(event, handle) {\n  delete PyViz.comms[\"hv-extension-comm\"];\n  window.PyViz.plot_index = {}\n}\n\n/**\n * Handle update_display_data messages\n */\nfunction handle_update_output(event, handle) {\n  handle_clear_output(event, {cell: {output_area: handle.output_area}})\n  handle_add_output(event, handle)\n}\n\nfunction register_renderer(events, OutputArea) {\n  function append_mime(data, metadata, element) {\n    // create a DOM node to render to\n    var toinsert = this.create_output_subarea(\n    metadata,\n    CLASS_NAME,\n    EXEC_MIME_TYPE\n    );\n    this.keyboard_manager.register_events(toinsert);\n    // Render to node\n    var props = {data: data, metadata: metadata[EXEC_MIME_TYPE]};\n    render(props, toinsert[0]);\n    element.append(toinsert);\n    return toinsert\n  }\n\n  events.on('output_added.OutputArea', handle_add_output);\n  events.on('output_updated.OutputArea', handle_update_output);\n  events.on('clear_output.CodeCell', handle_clear_output);\n  events.on('delete.Cell', handle_clear_output);\n  events.on('kernel_ready.Kernel', handle_kernel_cleanup);\n\n  OutputArea.prototype.register_mime_type(EXEC_MIME_TYPE, append_mime, {\n    safe: true,\n    index: 0\n  });\n}\n\nif (window.Jupyter !== undefined) {\n  try {\n    var events = require('base/js/events');\n    var OutputArea = require('notebook/js/outputarea').OutputArea;\n    if (OutputArea.prototype.mime_types().indexOf(EXEC_MIME_TYPE) == -1) {\n      register_renderer(events, OutputArea);\n    }\n  } catch(err) {\n  }\n}\n",
      "application/vnd.holoviews_load.v0+json": ""
     },
     "metadata": {},
     "output_type": "display_data"
    },
    {
     "data": {
      "text/html": [
       "<style>*[data-root-id],\n",
       "*[data-root-id] > * {\n",
       "  box-sizing: border-box;\n",
       "  font-family: var(--jp-ui-font-family);\n",
       "  font-size: var(--jp-ui-font-size1);\n",
       "  color: var(--vscode-editor-foreground, var(--jp-ui-font-color1));\n",
       "}\n",
       "\n",
       "/* Override VSCode background color */\n",
       ".cell-output-ipywidget-background:has(\n",
       "    > .cell-output-ipywidget-background > .lm-Widget > *[data-root-id]\n",
       "  ),\n",
       ".cell-output-ipywidget-background:has(> .lm-Widget > *[data-root-id]) {\n",
       "  background-color: transparent !important;\n",
       "}\n",
       "</style>"
      ]
     },
     "metadata": {},
     "output_type": "display_data"
    },
    {
     "data": {
      "application/vnd.holoviews_exec.v0+json": "",
      "text/html": [
       "<div id='p1268'>\n",
       "  <div id=\"b40d02eb-9a50-4355-9611-fd33fd48bfa2\" data-root-id=\"p1268\" style=\"display: contents;\"></div>\n",
       "</div>\n",
       "<script type=\"application/javascript\">(function(root) {\n",
       "  var docs_json = {\"dc22faa0-37a8-42e6-b16c-0416630a57f0\":{\"version\":\"3.4.1\",\"title\":\"Bokeh Application\",\"roots\":[{\"type\":\"object\",\"name\":\"panel.models.browser.BrowserInfo\",\"id\":\"p1268\"},{\"type\":\"object\",\"name\":\"panel.models.comm_manager.CommManager\",\"id\":\"p1269\",\"attributes\":{\"plot_id\":\"p1268\",\"comm_id\":\"87cc88fcc4c54817b56a8143fccc1149\",\"client_comm_id\":\"944e66d9e15f4bd38a5a37987c00fa7c\"}}],\"defs\":[{\"type\":\"model\",\"name\":\"ReactiveHTML1\"},{\"type\":\"model\",\"name\":\"FlexBox1\",\"properties\":[{\"name\":\"align_content\",\"kind\":\"Any\",\"default\":\"flex-start\"},{\"name\":\"align_items\",\"kind\":\"Any\",\"default\":\"flex-start\"},{\"name\":\"flex_direction\",\"kind\":\"Any\",\"default\":\"row\"},{\"name\":\"flex_wrap\",\"kind\":\"Any\",\"default\":\"wrap\"},{\"name\":\"gap\",\"kind\":\"Any\",\"default\":\"\"},{\"name\":\"justify_content\",\"kind\":\"Any\",\"default\":\"flex-start\"}]},{\"type\":\"model\",\"name\":\"FloatPanel1\",\"properties\":[{\"name\":\"config\",\"kind\":\"Any\",\"default\":{\"type\":\"map\"}},{\"name\":\"contained\",\"kind\":\"Any\",\"default\":true},{\"name\":\"position\",\"kind\":\"Any\",\"default\":\"right-top\"},{\"name\":\"offsetx\",\"kind\":\"Any\",\"default\":null},{\"name\":\"offsety\",\"kind\":\"Any\",\"default\":null},{\"name\":\"theme\",\"kind\":\"Any\",\"default\":\"primary\"},{\"name\":\"status\",\"kind\":\"Any\",\"default\":\"normalized\"}]},{\"type\":\"model\",\"name\":\"GridStack1\",\"properties\":[{\"name\":\"mode\",\"kind\":\"Any\",\"default\":\"warn\"},{\"name\":\"ncols\",\"kind\":\"Any\",\"default\":null},{\"name\":\"nrows\",\"kind\":\"Any\",\"default\":null},{\"name\":\"allow_resize\",\"kind\":\"Any\",\"default\":true},{\"name\":\"allow_drag\",\"kind\":\"Any\",\"default\":true},{\"name\":\"state\",\"kind\":\"Any\",\"default\":[]}]},{\"type\":\"model\",\"name\":\"drag1\",\"properties\":[{\"name\":\"slider_width\",\"kind\":\"Any\",\"default\":5},{\"name\":\"slider_color\",\"kind\":\"Any\",\"default\":\"black\"},{\"name\":\"value\",\"kind\":\"Any\",\"default\":50}]},{\"type\":\"model\",\"name\":\"click1\",\"properties\":[{\"name\":\"terminal_output\",\"kind\":\"Any\",\"default\":\"\"},{\"name\":\"debug_name\",\"kind\":\"Any\",\"default\":\"\"},{\"name\":\"clears\",\"kind\":\"Any\",\"default\":0}]},{\"type\":\"model\",\"name\":\"FastWrapper1\",\"properties\":[{\"name\":\"object\",\"kind\":\"Any\",\"default\":null},{\"name\":\"style\",\"kind\":\"Any\",\"default\":null}]},{\"type\":\"model\",\"name\":\"NotificationAreaBase1\",\"properties\":[{\"name\":\"js_events\",\"kind\":\"Any\",\"default\":{\"type\":\"map\"}},{\"name\":\"position\",\"kind\":\"Any\",\"default\":\"bottom-right\"},{\"name\":\"_clear\",\"kind\":\"Any\",\"default\":0}]},{\"type\":\"model\",\"name\":\"NotificationArea1\",\"properties\":[{\"name\":\"js_events\",\"kind\":\"Any\",\"default\":{\"type\":\"map\"}},{\"name\":\"notifications\",\"kind\":\"Any\",\"default\":[]},{\"name\":\"position\",\"kind\":\"Any\",\"default\":\"bottom-right\"},{\"name\":\"_clear\",\"kind\":\"Any\",\"default\":0},{\"name\":\"types\",\"kind\":\"Any\",\"default\":[{\"type\":\"map\",\"entries\":[[\"type\",\"warning\"],[\"background\",\"#ffc107\"],[\"icon\",{\"type\":\"map\",\"entries\":[[\"className\",\"fas fa-exclamation-triangle\"],[\"tagName\",\"i\"],[\"color\",\"white\"]]}]]},{\"type\":\"map\",\"entries\":[[\"type\",\"info\"],[\"background\",\"#007bff\"],[\"icon\",{\"type\":\"map\",\"entries\":[[\"className\",\"fas fa-info-circle\"],[\"tagName\",\"i\"],[\"color\",\"white\"]]}]]}]}]},{\"type\":\"model\",\"name\":\"Notification\",\"properties\":[{\"name\":\"background\",\"kind\":\"Any\",\"default\":null},{\"name\":\"duration\",\"kind\":\"Any\",\"default\":3000},{\"name\":\"icon\",\"kind\":\"Any\",\"default\":null},{\"name\":\"message\",\"kind\":\"Any\",\"default\":\"\"},{\"name\":\"notification_type\",\"kind\":\"Any\",\"default\":null},{\"name\":\"_destroyed\",\"kind\":\"Any\",\"default\":false}]},{\"type\":\"model\",\"name\":\"TemplateActions1\",\"properties\":[{\"name\":\"open_modal\",\"kind\":\"Any\",\"default\":0},{\"name\":\"close_modal\",\"kind\":\"Any\",\"default\":0}]},{\"type\":\"model\",\"name\":\"BootstrapTemplateActions1\",\"properties\":[{\"name\":\"open_modal\",\"kind\":\"Any\",\"default\":0},{\"name\":\"close_modal\",\"kind\":\"Any\",\"default\":0}]},{\"type\":\"model\",\"name\":\"TemplateEditor1\",\"properties\":[{\"name\":\"layout\",\"kind\":\"Any\",\"default\":[]}]},{\"type\":\"model\",\"name\":\"MaterialTemplateActions1\",\"properties\":[{\"name\":\"open_modal\",\"kind\":\"Any\",\"default\":0},{\"name\":\"close_modal\",\"kind\":\"Any\",\"default\":0}]},{\"type\":\"model\",\"name\":\"copy_to_clipboard1\",\"properties\":[{\"name\":\"fill\",\"kind\":\"Any\",\"default\":\"none\"},{\"name\":\"value\",\"kind\":\"Any\",\"default\":null}]}]}};\n",
       "  var render_items = [{\"docid\":\"dc22faa0-37a8-42e6-b16c-0416630a57f0\",\"roots\":{\"p1268\":\"b40d02eb-9a50-4355-9611-fd33fd48bfa2\"},\"root_ids\":[\"p1268\"]}];\n",
       "  var docs = Object.values(docs_json)\n",
       "  if (!docs) {\n",
       "    return\n",
       "  }\n",
       "  const py_version = docs[0].version.replace('rc', '-rc.').replace('.dev', '-dev.')\n",
       "  async function embed_document(root) {\n",
       "    var Bokeh = get_bokeh(root)\n",
       "    await Bokeh.embed.embed_items_notebook(docs_json, render_items);\n",
       "    for (const render_item of render_items) {\n",
       "      for (const root_id of render_item.root_ids) {\n",
       "\tconst id_el = document.getElementById(root_id)\n",
       "\tif (id_el.children.length && id_el.children[0].hasAttribute('data-root-id')) {\n",
       "\t  const root_el = id_el.children[0]\n",
       "\t  root_el.id = root_el.id + '-rendered'\n",
       "\t  for (const child of root_el.children) {\n",
       "            // Ensure JupyterLab does not capture keyboard shortcuts\n",
       "            // see: https://jupyterlab.readthedocs.io/en/4.1.x/extension/notebook.html#keyboard-interaction-model\n",
       "\t    child.setAttribute('data-lm-suppress-shortcuts', 'true')\n",
       "\t  }\n",
       "\t}\n",
       "      }\n",
       "    }\n",
       "  }\n",
       "  function get_bokeh(root) {\n",
       "    if (root.Bokeh === undefined) {\n",
       "      return null\n",
       "    } else if (root.Bokeh.version !== py_version) {\n",
       "      if (root.Bokeh.versions === undefined || !root.Bokeh.versions.has(py_version)) {\n",
       "\treturn null\n",
       "      }\n",
       "      return root.Bokeh.versions.get(py_version);\n",
       "    } else if (root.Bokeh.version === py_version) {\n",
       "      return root.Bokeh\n",
       "    }\n",
       "    return null\n",
       "  }\n",
       "  function is_loaded(root) {\n",
       "    var Bokeh = get_bokeh(root)\n",
       "    return (Bokeh != null && Bokeh.Panel !== undefined)\n",
       "  }\n",
       "  if (is_loaded(root)) {\n",
       "    embed_document(root);\n",
       "  } else {\n",
       "    var attempts = 0;\n",
       "    var timer = setInterval(function(root) {\n",
       "      if (is_loaded(root)) {\n",
       "        clearInterval(timer);\n",
       "        embed_document(root);\n",
       "      } else if (document.readyState == \"complete\") {\n",
       "        attempts++;\n",
       "        if (attempts > 200) {\n",
       "          clearInterval(timer);\n",
       "\t  var Bokeh = get_bokeh(root)\n",
       "\t  if (Bokeh == null || Bokeh.Panel == null) {\n",
       "            console.warn(\"Panel: ERROR: Unable to run Panel code because Bokeh or Panel library is missing\");\n",
       "\t  } else {\n",
       "\t    console.warn(\"Panel: WARNING: Attempting to render but not all required libraries could be resolved.\")\n",
       "\t    embed_document(root)\n",
       "\t  }\n",
       "        }\n",
       "      }\n",
       "    }, 25, root)\n",
       "  }\n",
       "})(window);</script>"
      ]
     },
     "metadata": {
      "application/vnd.holoviews_exec.v0+json": {
       "id": "p1268"
      }
     },
     "output_type": "display_data"
    },
    {
     "data": {
      "text/html": [
       "\n",
       "<div class=\"logo-block\">\n",
       "<img src='data:image/png;base64,iVBORw0KGgoAAAANSUhEUgAAAEAAAABACAYAAACqaXHeAAAABHNCSVQICAgIfAhkiAAAAAlwSFlz\n",
       "AAAB+wAAAfsBxc2miwAAABl0RVh0U29mdHdhcmUAd3d3Lmlua3NjYXBlLm9yZ5vuPBoAAA6zSURB\n",
       "VHic7ZtpeFRVmsf/5966taWqUlUJ2UioBBJiIBAwCZtog9IOgjqACsogKtqirT2ttt069nQ/zDzt\n",
       "tI4+CrJIREFaFgWhBXpUNhHZQoKBkIUASchWla1S+3ar7r1nPkDaCAnZKoQP/D7mnPOe9/xy76n3\n",
       "nFSAW9ziFoPFNED2LLK5wcyBDObkb8ZkxuaoSYlI6ZcOKq1eWFdedqNzGHQBk9RMEwFAASkk0Xw3\n",
       "ETacDNi2vtvc7L0ROdw0AjoSotQVkKSvHQz/wRO1lScGModBFbDMaNRN1A4tUBCS3lk7BWhQkgpD\n",
       "lG4852/+7DWr1R3uHAZVQDsbh6ZPN7CyxUrCzJMRouusj0ipRwD2uKm0Zn5d2dFwzX1TCGhnmdGo\n",
       "G62Nna+isiUqhkzuKrkQaJlPEv5mFl2fvGg2t/VnzkEV8F5ioioOEWkLG86fvbpthynjdhXYZziQ\n",
       "x1hC9J2NFyi8vCTt91Fh04KGip0AaG9zuCk2wQCVyoNU3Hjezee9bq92duzzTmxsRJoy+jEZZZYo\n",
       "GTKJ6SJngdJqAfRzpze0+jHreUtPc7gpBLQnIYK6BYp/uGhw9YK688eu7v95ysgshcg9qSLMo3JC\n",
       "4jqLKQFBgdKDPoQ+Pltb8dUyQLpeDjeVgI6EgLIQFT5tEl3rn2losHVsexbZ3EyT9wE1uGdkIPcy\n",
       "BGxn8QUq1QrA5nqW5i2tLqvrrM9NK6AdkVIvL9E9bZL/oyfMVd/jqvc8LylzRBKDJSzIExwhQzuL\n",
       "QYGQj4rHfFTc8mUdu3E7yoLtbTe9gI4EqVgVkug2i5+uXGo919ixbRog+3fTbQ8qJe4ZOYNfMoTI\n",
       "OoshUNosgO60AisX15aeI2PSIp5KiFLI9ubb1vV3Qb2ltwLakUCDAkWX7/nHKRmmGIl9VgYsUhJm\n",
       "2NXjKYADtM1ygne9QQDIXlk49FBstMKx66D1v4+XuQr7vqTe0VcBHQlRWiOCbmmSYe2SqtL6q5rJ\n",
       "zsTb7lKx3FKOYC4DoqyS/B5bvLPxvD9Qtf6saxYLQGJErmDOdOMr/zo96km1nElr8bmPOBwI9COv\n",
       "HnFPRIwmkSOv9kcAS4heRsidOkpeWBgZM+UBrTFAXNYL5Vf2ii9c1trNzpYdaoVil3WIc+wdk+gQ\n",
       "noie3ecCcxt9ITcLAPWt/laGEO/9U6PmzZkenTtsSMQ8uYywJVW+grCstAvCIaAdArAsIWkRDDs/\n",
       "KzLm2YcjY1Lv0UdW73HabE9n6V66cxSzfEmuJssTpKGVp+0vHq73FwL46eOjpMpbRAnNmJFrGJNu\n",
       "Ukf9Yrz+3rghiumCKNXXWPhLYcjxGsIpoCMsIRoFITkW8AuyM8jC1+/QLx4bozCEJIq38+1rtpR6\n",
       "V/yzb8eBlRb3fo5l783N0CWolAzJHaVNzkrTzlEp2bQ2q3TC5gn6wpnoQAmwSiGh2GitnTmVMc5O\n",
       "UyfKWUKCIsU7+fZDKwqdT6DDpvkzAX4/+AMFjk0tDp5GRXLpQ2MUmhgDp5gxQT8+Y7hyPsMi8uxF\n",
       "71H0oebujHALECjFKaW9Lm68n18wXp2kVzIcABytD5iXFzg+WVXkegpAsOOYziqo0OkK76GyquC3\n",
       "ltZAzMhhqlSNmmWTE5T6e3IN05ITFLM4GdN0vtZ3ob8Jh1NAKXFbm5PtLU/eqTSlGjkNAJjdgn/N\n",
       "aedXa0tdi7+t9G0FIF49rtMSEgAs1kDLkTPO7ebm4IUWeyh1bKomXqlgMG6kJmHcSM0clYLJ8XtR\n",
       "1GTnbV3F6I5wCGikAb402npp1h1s7LQUZZSMIfALFOuL3UUrfnS8+rez7v9qcold5tilgHbO1fjK\n",
       "9ubb17u9oshxzMiUBKXWqJNxd+fqb0tLVs4lILFnK71H0Ind7uiPgACVcFJlrb0tV6DzxqqTIhUM\n",
       "CwDf1/rrVhTa33/3pGPxJYdQ2l2cbgVcQSosdx8uqnDtbGjh9SlDVSMNWhlnilfqZk42Th2ZpLpf\n",
       "xrHec5e815zrr0dfBZSwzkZfqsv+1FS1KUknUwPARVvItfKUY+cn57yP7qv07UE3p8B2uhUwLk09\n",
       "e0SCOrK+hbdYHYLjRIl71wWzv9jpEoeOHhGRrJAzyEyNiJuUqX0g2sBN5kGK6y2Blp5M3lsB9Qh4\n",
       "y2Ja6x6+i0ucmKgwMATwhSjdUu49tKrQ/pvN5d53ml2CGwCmJipmKjgmyuaXzNeL2a0AkQ01Th5j\n",
       "2DktO3Jyk8f9vcOBQHV94OK+fPumJmvQHxJoWkaKWq9Vs+yUsbq0zGT1I4RgeH2b5wef7+c7bl8F\n",
       "eKgoHVVZa8ZPEORzR6sT1BzDUAD/d9F78e2Tzv99v8D+fLVTqAKAsbGamKey1Mt9Ann4eH3gTXTz\n",
       "idWtAJ8PQWOk7NzSeQn/OTHDuEikVF1R4z8BQCy+6D1aWRfY0tTGG2OM8rRoPaeIj5ZHzJxszElN\n",
       "VM8K8JS5WOfv8mzRnQAKoEhmt8gyPM4lU9SmBK1MCQBnW4KONT86v1hZ1PbwSXPw4JWussVjtH9Y\n",
       "NCoiL9UoH/6PSu8jFrfY2t36erQHXLIEakMi1SydmzB31h3GGXFDFNPaK8Rme9B79Ixrd0WN+1ij\n",
       "NRQ/doRmuFLBkHSTOm5GruG+pFjFdAmorG4IXH1Qua6ASniclfFtDYt+oUjKipPrCQB7QBQ2lrgP\n",
       "fFzm+9XWUtcqJ3/5vDLDpJ79XHZk3u8nGZ42qlj1+ydtbxysCezrydp6ugmipNJ7WBPB5tydY0jP\n",
       "HaVNzs3QzeE4ZpTbI+ZbnSFPbVOw9vsfnVvqWnirPyCNGD08IlqtYkh2hjZ5dErEQzoNm+6ykyOt\n",
       "Lt5/PQEuSRRKo22VkydK+vvS1XEKlhCJAnsqvcVvH7f/ZU2R67eXbMEGAMiIV5oWZWiWvz5Fv2xG\n",
       "sjqNJQRvn3Rs2lji/lNP19VjAQDgD7FHhujZB9OGqYxRkZxixgRDVlqS6uEOFaJUVu0rPFzctrnF\n",
       "JqijImVp8dEKVWyUXDk92zAuMZ6bFwpBU1HrOw6AdhQgUooChb0+ItMbWJitSo5Ws3IAOGEOtL53\n",
       "0vHZih9sC4vtofZ7Qu6523V/fmGcds1TY3V36pUsBwAbSlxnVh2xLfAD/IAIMDf7XYIkNmXfpp2l\n",
       "18rkAJAy9HKFaIr/qULkeQQKy9zf1JgDB2uaeFNGijo5QsUyacNUUTOnGO42xSnv4oOwpDi1zYkc\n",
       "efUc3I5Gk6PhyTuVKaOGyLUAYPGIoY9Pu/atL/L92+4q9wbflRJ2Trpm/jPjdBtfnqB/dIThcl8A\n",
       "KG7hbRuKnb8qsQsVvVlTrwQAQMUlf3kwJI24Z4JhPMtcfng5GcH49GsrxJpGvvHIaeem2ma+KSjQ\n",
       "lIwUdYyCY8j4dE1KzijNnIP2llF2wcXNnsoapw9XxsgYAl6k+KzUXbi2yP3KR2ecf6z3BFsBICdW\n",
       "nvnIaG3eHybqX7vbpEqUMT+9OL4Qpe8VON7dXuFd39v19FoAABRVePbGGuXTszO0P7tu6lghUonE\n",
       "llRdrhArLvmKdh9u29jcFiRRkfLUxBiFNiqSU9icoZQHo5mYBI1MBgBH6wMNb+U7Pnw337H4gi1Y\n",
       "ciWs+uks3Z9fztUvfzxTm9Ne8XXkvQLHNytOOZeiD4e0PgkAIAYCYknKUNUDSXEKzdWNpnil7r4p\n",
       "xqkjTarZMtk/K8TQ6Qve78qqvXurGwIJqcOUKfUWHsm8KGvxSP68YudXq4pcj39X49uOK2X142O0\n",
       "Tz5/u/7TVybqH0rSya6ZBwD21/gubbrgWdDgEOx9WUhfBaC2ibcEBYm7a7x+ukrBMNcEZggyR0TE\n",
       "T8zUPjikQ4VosQZbTpS4vqizBKvqmvjsqnpfzaZyx9JPiz1/bfGKdgD45XB1zoIMzYbfTdS/NClB\n",
       "Gct0USiY3YL/g0LHy/uq/Ef6uo5+n0R/vyhp17Klpge763f8rMu6YU/zrn2nml+2WtH+Z+5IAAFc\n",
       "2bUTdTDOSNa9+cQY7YLsOIXhevEkCvzph7a8laecz/Un/z4/Ae04XeL3UQb57IwU9ZDr9UuKVajv\n",
       "nxp1+1UVIo/LjztZkKH59fO3G/JemqCfmaCRqbqbd90ZZ8FfjtkfAyD0J/9+C2h1hDwsSxvGjNDc\n",
       "b4zk5NfrSwiQblLHzZhg+Jf4aPlUwpDqkQqa9nimbt1/TDH8OitGMaQnj+RJS6B1fbF7SY1TqO5v\n",
       "/v0WAADl1f7zokgS7s7VT2DZ7pegUjBM7mjtiDZbcN4j0YrHH0rXpCtY0qPX0cVL0rv5jv/ZXend\n",
       "0u/EESYBAFBU4T4Qa5TflZOhTe7pmKpaP8kCVUVw1+yhXfJWvn1P3hnXi33JsTN6PnP3hHZ8Z3/h\n",
       "aLHzmkNPuPj7Bc/F/Q38CwjTpSwQXgE4Vmwry9tpfq/ZFgqFMy4AVDtCvi8rvMvOmv0N4YwbVgEA\n",
       "sPM72/KVnzfspmH7HQGCRLG2yL1+z8XwvPcdCbsAANh+xPzstgMtxeGKt+6MK3/tacfvwhWvIwMi\n",
       "oKEBtm0H7W+UVfkc/Y1V0BhoPlDr/w1w/eu1vjIgAgDg22OtX6/eYfnEz/focrZTHAFR+PSs56/7\n",
       "q32nwpjazxgwAQCwcU/T62t3WL7r6/jVRa6/byp1rei+Z98ZUAEAhEPHPc8fKnTU9nbgtnOe8h0l\n",
       "9hcGIqmODLQAHCy2Xti6v/XNRivf43f4fFvIteu854+VHnR7q9tfBlwAAGz+pnndB9vM26UebAe8\n",
       "SLHujPOTPVW+rwY+sxskAAC2HrA8t2Vvc7ffP1r9o+vwR2dcr92InIAbKKC1FZ5tB1tf+/G8p8sv\n",
       "N/9Q5zd/XR34LYCwV5JdccMEAMDBk45DH243r/X4xGvqxFa/GNpS7n6rwOwNWwHVE26oAADYurf1\n",
       "zx/utOzt+DMKYM0p17YtZZ5VNzqfsB2HewG1WXE8PoZ7gOclbTIvynZf9JV+fqZtfgs/8F/Nu5rB\n",
       "EIBmJ+8QRMmpU7EzGRsf2FzuePqYRbzh/zE26EwdrT10f6r6o8HOYzCJB9Dpff8tbnGLG8L/A/WE\n",
       "roTBs2RqAAAAAElFTkSuQmCC'\n",
       "     style='height:25px; border-radius:12px; display: inline-block; float: left; vertical-align: middle'></img>\n",
       "\n",
       "\n",
       "  <img src='data:image/png;base64,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'\n",
       "       style='height:15px; border-radius:12px; display: inline-block; float: left'></img>\n",
       "  \n",
       "\n",
       "\n",
       "\n",
       "\n",
       "</div>\n"
      ]
     },
     "metadata": {},
     "output_type": "display_data"
    }
   ],
   "source": [
    "# directory\n",
    "import os, sys\n",
    "\n",
    "\n",
    "import holidays\n",
    "import requests\n",
    "\n",
    "\n",
    "# data manipulation\n",
    "import pandas as pd\n",
    "import numpy as np\n",
    "\n",
    "# data visualization\n",
    "%matplotlib inline\n",
    "import matplotlib.pyplot as plt\n",
    "import seaborn as sns\n",
    "\n",
    "\n",
    "# advanced data visualization\n",
    "import datashader as ds, pandas as pd, colorcet\n",
    "import datashader.transfer_functions as tf\n",
    "import holoviews as hv, pandas as pd, colorcet as cc\n",
    "from holoviews.element.tiles import EsriImagery\n",
    "from holoviews.operation.datashader import datashade\n",
    "hv.extension('bokeh')\n",
    "\n",
    "\n",
    "# To help with model building\n",
    "from sklearn.linear_model import LogisticRegression\n",
    "from sklearn.tree import DecisionTreeClassifier\n",
    "from sklearn.ensemble import (\n",
    "    AdaBoostClassifier,\n",
    "    GradientBoostingClassifier,\n",
    "    RandomForestClassifier,\n",
    "    BaggingClassifier,\n",
    ")\n",
    "from xgboost import XGBClassifier\n",
    "\n",
    "# To get different metric scores, and split data\n",
    "from sklearn import metrics\n",
    "from sklearn.model_selection import train_test_split, StratifiedKFold, cross_val_score\n",
    "from sklearn.metrics import (\n",
    "    f1_score,\n",
    "    accuracy_score,\n",
    "    recall_score,\n",
    "    precision_score,\n",
    "    confusion_matrix,\n",
    "    roc_auc_score,\n",
    "    #plot_confusion_matrix,\n",
    ")\n",
    "\n",
    "# To be used for data scaling and one hot encoding\n",
    "from sklearn.preprocessing import StandardScaler, MinMaxScaler, OneHotEncoder\n",
    "\n",
    "# To be used for tuning the model\n",
    "from sklearn.model_selection import GridSearchCV, RandomizedSearchCV\n",
    "\n",
    "\n",
    "# To be used for creating pipelines and personalizing them\n",
    "from sklearn.pipeline import Pipeline\n",
    "from sklearn.compose import ColumnTransformer\n",
    "\n",
    "# libraries for casual inference\n",
    "from causalinference import CausalModel\n",
    "from causalinference.utils import random_data\n",
    "\n",
    "\n",
    "# To supress scientific notations for a dataframe\n",
    "pd.set_option(\"display.float_format\", lambda x: \"%.3f\" % x)\n",
    "\n",
    "# To supress warnings\n",
    "import warnings\n",
    "\n",
    "warnings.filterwarnings(\"ignore\")"
   ]
  },
  {
   "cell_type": "markdown",
   "metadata": {},
   "source": [
    "## Loading the dataset"
   ]
  },
  {
   "cell_type": "code",
   "execution_count": 283,
   "metadata": {},
   "outputs": [
    {
     "name": "stdout",
     "output_type": "stream",
     "text": [
      "C:\\Users\\Jojo\\Desktop\\10A\\10x\\Week8\\GokaA\\data\n"
     ]
    }
   ],
   "source": [
    "os.chdir('C:\\\\Users\\\\Jojo\\\\Desktop\\\\10A\\\\10x\\\\Week8\\\\GokaA\\\\data')\n",
    "\n",
    "print(os.getcwd())\n"
   ]
  },
  {
   "cell_type": "code",
   "execution_count": 284,
   "metadata": {},
   "outputs": [],
   "source": [
    "driv_locale_df = pd.read_csv('driver_locations_during_request.csv')\n",
    "trip_det_df = pd.read_csv('nb.csv')"
   ]
  },
  {
   "cell_type": "markdown",
   "metadata": {},
   "source": [
    "## Data Overview"
   ]
  },
  {
   "cell_type": "code",
   "execution_count": 285,
   "metadata": {},
   "outputs": [
    {
     "data": {
      "text/html": [
       "<div>\n",
       "<style scoped>\n",
       "    .dataframe tbody tr th:only-of-type {\n",
       "        vertical-align: middle;\n",
       "    }\n",
       "\n",
       "    .dataframe tbody tr th {\n",
       "        vertical-align: top;\n",
       "    }\n",
       "\n",
       "    .dataframe thead th {\n",
       "        text-align: right;\n",
       "    }\n",
       "</style>\n",
       "<table border=\"1\" class=\"dataframe\">\n",
       "  <thead>\n",
       "    <tr style=\"text-align: right;\">\n",
       "      <th></th>\n",
       "      <th>Trip ID</th>\n",
       "      <th>Trip Origin</th>\n",
       "      <th>Trip Destination</th>\n",
       "      <th>Trip Start Time</th>\n",
       "      <th>Trip End Time</th>\n",
       "    </tr>\n",
       "  </thead>\n",
       "  <tbody>\n",
       "    <tr>\n",
       "      <th>0</th>\n",
       "      <td>391996</td>\n",
       "      <td>6.508813001668548,3.37740316890347</td>\n",
       "      <td>6.650969799999999,3.3450307</td>\n",
       "      <td>2021-07-01 07:28:04</td>\n",
       "      <td>2021-07-01 07:29:37</td>\n",
       "    </tr>\n",
       "    <tr>\n",
       "      <th>1</th>\n",
       "      <td>391997</td>\n",
       "      <td>6.4316714,3.4555375</td>\n",
       "      <td>6.4280814653326,3.4721885847586</td>\n",
       "      <td>2021-07-01 06:38:04</td>\n",
       "      <td>2021-07-01 07:07:28</td>\n",
       "    </tr>\n",
       "    <tr>\n",
       "      <th>2</th>\n",
       "      <td>391998</td>\n",
       "      <td>6.631679399999999,3.3388976</td>\n",
       "      <td>6.508324099999999,3.3590397</td>\n",
       "      <td>2021-07-01 06:21:02</td>\n",
       "      <td>2021-07-01 07:02:23</td>\n",
       "    </tr>\n",
       "    <tr>\n",
       "      <th>3</th>\n",
       "      <td>391999</td>\n",
       "      <td>6.572757200000001,3.3677082</td>\n",
       "      <td>6.584881099999999,3.3614073</td>\n",
       "      <td>2021-07-01 07:16:07</td>\n",
       "      <td>2021-07-01 07:29:42</td>\n",
       "    </tr>\n",
       "    <tr>\n",
       "      <th>4</th>\n",
       "      <td>392001</td>\n",
       "      <td>6.6010417,3.2766339</td>\n",
       "      <td>6.4501069,3.3916154</td>\n",
       "      <td>2021-07-01 09:30:59</td>\n",
       "      <td>2021-07-01 09:34:36</td>\n",
       "    </tr>\n",
       "  </tbody>\n",
       "</table>\n",
       "</div>"
      ],
      "text/plain": [
       "   Trip ID                         Trip Origin  \\\n",
       "0   391996  6.508813001668548,3.37740316890347   \n",
       "1   391997                 6.4316714,3.4555375   \n",
       "2   391998         6.631679399999999,3.3388976   \n",
       "3   391999         6.572757200000001,3.3677082   \n",
       "4   392001                 6.6010417,3.2766339   \n",
       "\n",
       "                  Trip Destination      Trip Start Time        Trip End Time  \n",
       "0      6.650969799999999,3.3450307  2021-07-01 07:28:04  2021-07-01 07:29:37  \n",
       "1  6.4280814653326,3.4721885847586  2021-07-01 06:38:04  2021-07-01 07:07:28  \n",
       "2      6.508324099999999,3.3590397  2021-07-01 06:21:02  2021-07-01 07:02:23  \n",
       "3      6.584881099999999,3.3614073  2021-07-01 07:16:07  2021-07-01 07:29:42  \n",
       "4              6.4501069,3.3916154  2021-07-01 09:30:59  2021-07-01 09:34:36  "
      ]
     },
     "execution_count": 285,
     "metadata": {},
     "output_type": "execute_result"
    }
   ],
   "source": [
    "# first five rows of our trip_det_df dataset\n",
    "trip_det_df.head()"
   ]
  },
  {
   "cell_type": "code",
   "execution_count": 286,
   "metadata": {},
   "outputs": [
    {
     "data": {
      "text/html": [
       "<div>\n",
       "<style scoped>\n",
       "    .dataframe tbody tr th:only-of-type {\n",
       "        vertical-align: middle;\n",
       "    }\n",
       "\n",
       "    .dataframe tbody tr th {\n",
       "        vertical-align: top;\n",
       "    }\n",
       "\n",
       "    .dataframe thead th {\n",
       "        text-align: right;\n",
       "    }\n",
       "</style>\n",
       "<table border=\"1\" class=\"dataframe\">\n",
       "  <thead>\n",
       "    <tr style=\"text-align: right;\">\n",
       "      <th></th>\n",
       "      <th>id</th>\n",
       "      <th>order_id</th>\n",
       "      <th>driver_id</th>\n",
       "      <th>driver_action</th>\n",
       "      <th>lat</th>\n",
       "      <th>lng</th>\n",
       "      <th>created_at</th>\n",
       "      <th>updated_at</th>\n",
       "    </tr>\n",
       "  </thead>\n",
       "  <tbody>\n",
       "    <tr>\n",
       "      <th>0</th>\n",
       "      <td>1</td>\n",
       "      <td>392001</td>\n",
       "      <td>243828</td>\n",
       "      <td>accepted</td>\n",
       "      <td>6.602</td>\n",
       "      <td>3.270</td>\n",
       "      <td>NaN</td>\n",
       "      <td>NaN</td>\n",
       "    </tr>\n",
       "    <tr>\n",
       "      <th>1</th>\n",
       "      <td>2</td>\n",
       "      <td>392001</td>\n",
       "      <td>243588</td>\n",
       "      <td>rejected</td>\n",
       "      <td>6.592</td>\n",
       "      <td>3.287</td>\n",
       "      <td>NaN</td>\n",
       "      <td>NaN</td>\n",
       "    </tr>\n",
       "    <tr>\n",
       "      <th>2</th>\n",
       "      <td>3</td>\n",
       "      <td>392001</td>\n",
       "      <td>243830</td>\n",
       "      <td>rejected</td>\n",
       "      <td>6.596</td>\n",
       "      <td>3.282</td>\n",
       "      <td>NaN</td>\n",
       "      <td>NaN</td>\n",
       "    </tr>\n",
       "    <tr>\n",
       "      <th>3</th>\n",
       "      <td>4</td>\n",
       "      <td>392001</td>\n",
       "      <td>243539</td>\n",
       "      <td>rejected</td>\n",
       "      <td>6.596</td>\n",
       "      <td>3.281</td>\n",
       "      <td>NaN</td>\n",
       "      <td>NaN</td>\n",
       "    </tr>\n",
       "    <tr>\n",
       "      <th>4</th>\n",
       "      <td>5</td>\n",
       "      <td>392001</td>\n",
       "      <td>171653</td>\n",
       "      <td>rejected</td>\n",
       "      <td>6.609</td>\n",
       "      <td>3.289</td>\n",
       "      <td>NaN</td>\n",
       "      <td>NaN</td>\n",
       "    </tr>\n",
       "  </tbody>\n",
       "</table>\n",
       "</div>"
      ],
      "text/plain": [
       "   id  order_id  driver_id driver_action   lat   lng  created_at  updated_at\n",
       "0   1    392001     243828      accepted 6.602 3.270         NaN         NaN\n",
       "1   2    392001     243588      rejected 6.592 3.287         NaN         NaN\n",
       "2   3    392001     243830      rejected 6.596 3.282         NaN         NaN\n",
       "3   4    392001     243539      rejected 6.596 3.281         NaN         NaN\n",
       "4   5    392001     171653      rejected 6.609 3.289         NaN         NaN"
      ]
     },
     "execution_count": 286,
     "metadata": {},
     "output_type": "execute_result"
    }
   ],
   "source": [
    "# first five rows of our driv_locale_df dataset\n",
    "driv_locale_df.head()"
   ]
  },
  {
   "cell_type": "code",
   "execution_count": 287,
   "metadata": {},
   "outputs": [
    {
     "name": "stdout",
     "output_type": "stream",
     "text": [
      "There are 536020 rows and 5 columns in our trip_det_df \n",
      "\n",
      "There are 1557740 rows and 8 columns in our driv_locale_df \n",
      "\n"
     ]
    }
   ],
   "source": [
    "# shape of our trip_det_df dataset\n",
    "print('There are', trip_det_df.shape[0], 'rows and', trip_det_df.shape[1], 'columns in our trip_det_df', '\\n')\n",
    "\n",
    "# shape of our driv_locale_df dataset\n",
    "print('There are', driv_locale_df.shape[0], 'rows and', driv_locale_df.shape[1], 'columns in our driv_locale_df', '\\n')\n",
    "\n"
   ]
  },
  {
   "cell_type": "code",
   "execution_count": 288,
   "metadata": {},
   "outputs": [
    {
     "name": "stdout",
     "output_type": "stream",
     "text": [
      "<class 'pandas.core.frame.DataFrame'>\n",
      "RangeIndex: 536020 entries, 0 to 536019\n",
      "Data columns (total 5 columns):\n",
      " #   Column            Non-Null Count   Dtype \n",
      "---  ------            --------------   ----- \n",
      " 0   Trip ID           536020 non-null  int64 \n",
      " 1   Trip Origin       536020 non-null  object\n",
      " 2   Trip Destination  536020 non-null  object\n",
      " 3   Trip Start Time   534369 non-null  object\n",
      " 4   Trip End Time     536019 non-null  object\n",
      "dtypes: int64(1), object(4)\n",
      "memory usage: 20.4+ MB\n"
     ]
    }
   ],
   "source": [
    "# checking data types of our trip_det_df\n",
    "trip_det_df.info()"
   ]
  },
  {
   "cell_type": "code",
   "execution_count": 289,
   "metadata": {},
   "outputs": [
    {
     "name": "stdout",
     "output_type": "stream",
     "text": [
      "<class 'pandas.core.frame.DataFrame'>\n",
      "RangeIndex: 1557740 entries, 0 to 1557739\n",
      "Data columns (total 8 columns):\n",
      " #   Column         Non-Null Count    Dtype  \n",
      "---  ------         --------------    -----  \n",
      " 0   id             1557740 non-null  int64  \n",
      " 1   order_id       1557740 non-null  int64  \n",
      " 2   driver_id      1557740 non-null  int64  \n",
      " 3   driver_action  1557740 non-null  object \n",
      " 4   lat            1557740 non-null  float64\n",
      " 5   lng            1557740 non-null  float64\n",
      " 6   created_at     0 non-null        float64\n",
      " 7   updated_at     0 non-null        float64\n",
      "dtypes: float64(4), int64(3), object(1)\n",
      "memory usage: 95.1+ MB\n"
     ]
    }
   ],
   "source": [
    "# checking data types of our driv_locale_df\n",
    "driv_locale_df.info()"
   ]
  },
  {
   "cell_type": "markdown",
   "metadata": {},
   "source": [
    "- In our **tripdetdf** all columns are of object data type except tripid\n",
    "- In our **driv_locale_df** all columns are of numerical data type except, driver_action\n",
    "- Any missapropriate data types shall be dealt with later."
   ]
  },
  {
   "cell_type": "code",
   "execution_count": 290,
   "metadata": {},
   "outputs": [
    {
     "name": "stdout",
     "output_type": "stream",
     "text": [
      "Unique values in Trip Origin:\n",
      "['6.508813001668548,3.37740316890347' '6.4316714,3.4555375'\n",
      " '6.631679399999999,3.3388976' ... '6.6105445,3.419395'\n",
      " '6.5869296,3.3632966' '6.647209999999999,3.4851489']\n",
      "\n",
      "\n",
      "Unique values in Trip Destination:\n",
      "['6.650969799999999,3.3450307' '6.4280814653326,3.4721885847586'\n",
      " '6.508324099999999,3.3590397' ... '6.4358700599679,3.4558902447109'\n",
      " '6.637906899999999,3.3339515' '6.454915198823159,3.555839938365194']\n",
      "\n",
      "\n",
      "Unique values in Trip Start Time:\n",
      "['2021-07-01 07:28:04' '2021-07-01 06:38:04' '2021-07-01 06:21:02' ...\n",
      " '2021-12-30 20:51:45' '2021-12-30 20:48:50' '2021-12-30 20:55:38']\n",
      "\n",
      "\n",
      "Unique values in Trip End Time:\n",
      "['2021-07-01 07:29:37' '2021-07-01 07:07:28' '2021-07-01 07:02:23' ...\n",
      " '2021-12-30 21:41:32' '2021-12-30 21:08:28' '2021-12-30 22:25:00']\n",
      "\n",
      "\n"
     ]
    }
   ],
   "source": [
    "# unique values of our categorical columns\n",
    "# Helps with identifying missing values that have posed as ?\n",
    "categorical_col=trip_det_df.select_dtypes(include='object')\n",
    "for col in categorical_col:\n",
    "    print(f\"Unique values in {col}:\")\n",
    "    print(trip_det_df[col].unique())\n",
    "    print(\"\\n\")"
   ]
  },
  {
   "cell_type": "markdown",
   "metadata": {},
   "source": [
    "- No '?' values in our string columns"
   ]
  },
  {
   "cell_type": "code",
   "execution_count": 291,
   "metadata": {},
   "outputs": [
    {
     "name": "stdout",
     "output_type": "stream",
     "text": [
      "Unique values in driver_action:\n",
      "['accepted' 'rejected']\n",
      "\n",
      "\n"
     ]
    }
   ],
   "source": [
    "# unique values of our categorical columns\n",
    "# Helps with identifying missing values that have posed as ?\n",
    "categorical_col=driv_locale_df.select_dtypes(include='object')\n",
    "for col in categorical_col:\n",
    "    print(f\"Unique values in {col}:\")\n",
    "    print(driv_locale_df[col].unique())\n",
    "    print(\"\\n\")"
   ]
  },
  {
   "cell_type": "code",
   "execution_count": 292,
   "metadata": {},
   "outputs": [
    {
     "data": {
      "text/html": [
       "<div>\n",
       "<style scoped>\n",
       "    .dataframe tbody tr th:only-of-type {\n",
       "        vertical-align: middle;\n",
       "    }\n",
       "\n",
       "    .dataframe tbody tr th {\n",
       "        vertical-align: top;\n",
       "    }\n",
       "\n",
       "    .dataframe thead th {\n",
       "        text-align: right;\n",
       "    }\n",
       "</style>\n",
       "<table border=\"1\" class=\"dataframe\">\n",
       "  <thead>\n",
       "    <tr style=\"text-align: right;\">\n",
       "      <th></th>\n",
       "      <th>count</th>\n",
       "      <th>mean</th>\n",
       "      <th>std</th>\n",
       "      <th>min</th>\n",
       "      <th>25%</th>\n",
       "      <th>50%</th>\n",
       "      <th>75%</th>\n",
       "      <th>max</th>\n",
       "    </tr>\n",
       "  </thead>\n",
       "  <tbody>\n",
       "    <tr>\n",
       "      <th>Trip ID</th>\n",
       "      <td>536020.000</td>\n",
       "      <td>991022.055</td>\n",
       "      <td>345636.431</td>\n",
       "      <td>391996.000</td>\n",
       "      <td>693561.000</td>\n",
       "      <td>991008.500</td>\n",
       "      <td>1281570.500</td>\n",
       "      <td>1637709.000</td>\n",
       "    </tr>\n",
       "  </tbody>\n",
       "</table>\n",
       "</div>"
      ],
      "text/plain": [
       "             count       mean        std        min        25%        50%  \\\n",
       "Trip ID 536020.000 991022.055 345636.431 391996.000 693561.000 991008.500   \n",
       "\n",
       "                75%         max  \n",
       "Trip ID 1281570.500 1637709.000  "
      ]
     },
     "execution_count": 292,
     "metadata": {},
     "output_type": "execute_result"
    }
   ],
   "source": [
    "# statistical summary of our trip_det_df\n",
    "trip_det_df.describe().T"
   ]
  },
  {
   "cell_type": "code",
   "execution_count": 293,
   "metadata": {},
   "outputs": [
    {
     "data": {
      "text/html": [
       "<div>\n",
       "<style scoped>\n",
       "    .dataframe tbody tr th:only-of-type {\n",
       "        vertical-align: middle;\n",
       "    }\n",
       "\n",
       "    .dataframe tbody tr th {\n",
       "        vertical-align: top;\n",
       "    }\n",
       "\n",
       "    .dataframe thead th {\n",
       "        text-align: right;\n",
       "    }\n",
       "</style>\n",
       "<table border=\"1\" class=\"dataframe\">\n",
       "  <thead>\n",
       "    <tr style=\"text-align: right;\">\n",
       "      <th></th>\n",
       "      <th>count</th>\n",
       "      <th>mean</th>\n",
       "      <th>std</th>\n",
       "      <th>min</th>\n",
       "      <th>25%</th>\n",
       "      <th>50%</th>\n",
       "      <th>75%</th>\n",
       "      <th>max</th>\n",
       "    </tr>\n",
       "  </thead>\n",
       "  <tbody>\n",
       "    <tr>\n",
       "      <th>id</th>\n",
       "      <td>1557740.000</td>\n",
       "      <td>778870.500</td>\n",
       "      <td>449680.949</td>\n",
       "      <td>1.000</td>\n",
       "      <td>389435.750</td>\n",
       "      <td>778870.500</td>\n",
       "      <td>1168305.250</td>\n",
       "      <td>1557740.000</td>\n",
       "    </tr>\n",
       "    <tr>\n",
       "      <th>order_id</th>\n",
       "      <td>1557740.000</td>\n",
       "      <td>419183.326</td>\n",
       "      <td>14445.310</td>\n",
       "      <td>392001.000</td>\n",
       "      <td>406765.000</td>\n",
       "      <td>421687.000</td>\n",
       "      <td>429313.000</td>\n",
       "      <td>517948.000</td>\n",
       "    </tr>\n",
       "    <tr>\n",
       "      <th>driver_id</th>\n",
       "      <td>1557740.000</td>\n",
       "      <td>234150.494</td>\n",
       "      <td>22704.755</td>\n",
       "      <td>121981.000</td>\n",
       "      <td>242997.000</td>\n",
       "      <td>243589.000</td>\n",
       "      <td>244056.000</td>\n",
       "      <td>247877.000</td>\n",
       "    </tr>\n",
       "    <tr>\n",
       "      <th>lat</th>\n",
       "      <td>1557740.000</td>\n",
       "      <td>6.536</td>\n",
       "      <td>0.060</td>\n",
       "      <td>6.409</td>\n",
       "      <td>6.499</td>\n",
       "      <td>6.544</td>\n",
       "      <td>6.593</td>\n",
       "      <td>7.703</td>\n",
       "    </tr>\n",
       "    <tr>\n",
       "      <th>lng</th>\n",
       "      <td>1557740.000</td>\n",
       "      <td>3.379</td>\n",
       "      <td>0.053</td>\n",
       "      <td>3.077</td>\n",
       "      <td>3.349</td>\n",
       "      <td>3.364</td>\n",
       "      <td>3.385</td>\n",
       "      <td>8.515</td>\n",
       "    </tr>\n",
       "    <tr>\n",
       "      <th>created_at</th>\n",
       "      <td>0.000</td>\n",
       "      <td>NaN</td>\n",
       "      <td>NaN</td>\n",
       "      <td>NaN</td>\n",
       "      <td>NaN</td>\n",
       "      <td>NaN</td>\n",
       "      <td>NaN</td>\n",
       "      <td>NaN</td>\n",
       "    </tr>\n",
       "    <tr>\n",
       "      <th>updated_at</th>\n",
       "      <td>0.000</td>\n",
       "      <td>NaN</td>\n",
       "      <td>NaN</td>\n",
       "      <td>NaN</td>\n",
       "      <td>NaN</td>\n",
       "      <td>NaN</td>\n",
       "      <td>NaN</td>\n",
       "      <td>NaN</td>\n",
       "    </tr>\n",
       "  </tbody>\n",
       "</table>\n",
       "</div>"
      ],
      "text/plain": [
       "                 count       mean        std        min        25%        50%  \\\n",
       "id         1557740.000 778870.500 449680.949      1.000 389435.750 778870.500   \n",
       "order_id   1557740.000 419183.326  14445.310 392001.000 406765.000 421687.000   \n",
       "driver_id  1557740.000 234150.494  22704.755 121981.000 242997.000 243589.000   \n",
       "lat        1557740.000      6.536      0.060      6.409      6.499      6.544   \n",
       "lng        1557740.000      3.379      0.053      3.077      3.349      3.364   \n",
       "created_at       0.000        NaN        NaN        NaN        NaN        NaN   \n",
       "updated_at       0.000        NaN        NaN        NaN        NaN        NaN   \n",
       "\n",
       "                   75%         max  \n",
       "id         1168305.250 1557740.000  \n",
       "order_id    429313.000  517948.000  \n",
       "driver_id   244056.000  247877.000  \n",
       "lat              6.593       7.703  \n",
       "lng              3.385       8.515  \n",
       "created_at         NaN         NaN  \n",
       "updated_at         NaN         NaN  "
      ]
     },
     "execution_count": 293,
     "metadata": {},
     "output_type": "execute_result"
    }
   ],
   "source": [
    "# statistical summary of our drive_locale_df\n",
    "driv_locale_df.describe().T"
   ]
  },
  {
   "cell_type": "markdown",
   "metadata": {},
   "source": [
    "- Around 1 million orders have been requested.\n",
    "- Average number of orders is 234,150."
   ]
  },
  {
   "cell_type": "markdown",
   "metadata": {},
   "source": [
    "## Data Preprocessing\n",
    "\n",
    "- Duplicate value treatment (if needed)\n",
    "- Missing value treatment (if needed)\n",
    "- Outlier detection and treatment (if needed)\n",
    "- Preparing data for modeling \n",
    "- Feature engineering (if needed)\n",
    "- Any other preprocessing steps (if needed)"
   ]
  },
  {
   "cell_type": "code",
   "execution_count": 294,
   "metadata": {},
   "outputs": [
    {
     "data": {
      "text/plain": [
       "0         False\n",
       "1         False\n",
       "2         False\n",
       "3         False\n",
       "4         False\n",
       "          ...  \n",
       "536015    False\n",
       "536016    False\n",
       "536017    False\n",
       "536018    False\n",
       "536019    False\n",
       "Length: 536020, dtype: bool"
      ]
     },
     "execution_count": 294,
     "metadata": {},
     "output_type": "execute_result"
    }
   ],
   "source": [
    "# duplicate values\n",
    "trip_det_df.duplicated()"
   ]
  },
  {
   "cell_type": "code",
   "execution_count": 295,
   "metadata": {},
   "outputs": [
    {
     "data": {
      "text/plain": [
       "0          False\n",
       "1          False\n",
       "2          False\n",
       "3          False\n",
       "4          False\n",
       "           ...  \n",
       "1557735    False\n",
       "1557736    False\n",
       "1557737    False\n",
       "1557738    False\n",
       "1557739    False\n",
       "Length: 1557740, dtype: bool"
      ]
     },
     "execution_count": 295,
     "metadata": {},
     "output_type": "execute_result"
    }
   ],
   "source": [
    "# duplicate values\n",
    "driv_locale_df.duplicated()"
   ]
  },
  {
   "cell_type": "code",
   "execution_count": 296,
   "metadata": {},
   "outputs": [
    {
     "data": {
      "text/html": [
       "<div>\n",
       "<style scoped>\n",
       "    .dataframe tbody tr th:only-of-type {\n",
       "        vertical-align: middle;\n",
       "    }\n",
       "\n",
       "    .dataframe tbody tr th {\n",
       "        vertical-align: top;\n",
       "    }\n",
       "\n",
       "    .dataframe thead th {\n",
       "        text-align: right;\n",
       "    }\n",
       "</style>\n",
       "<table border=\"1\" class=\"dataframe\">\n",
       "  <thead>\n",
       "    <tr style=\"text-align: right;\">\n",
       "      <th></th>\n",
       "      <th>Count</th>\n",
       "      <th>Percentage</th>\n",
       "    </tr>\n",
       "  </thead>\n",
       "  <tbody>\n",
       "    <tr>\n",
       "      <th>Trip Start Time</th>\n",
       "      <td>1651</td>\n",
       "      <td>0.308</td>\n",
       "    </tr>\n",
       "    <tr>\n",
       "      <th>Trip End Time</th>\n",
       "      <td>1</td>\n",
       "      <td>0.000</td>\n",
       "    </tr>\n",
       "  </tbody>\n",
       "</table>\n",
       "</div>"
      ],
      "text/plain": [
       "                 Count  Percentage\n",
       "Trip Start Time   1651       0.308\n",
       "Trip End Time        1       0.000"
      ]
     },
     "execution_count": 296,
     "metadata": {},
     "output_type": "execute_result"
    }
   ],
   "source": [
    "# selecting the instances where missing value is greater than 0\n",
    "pd.DataFrame({'Count':trip_det_df.isnull().sum()[trip_det_df.isnull().sum()>0],'Percentage':(trip_det_df.isnull().sum()[trip_det_df.isnull().sum()>0]/trip_det_df.shape[0])*100})"
   ]
  },
  {
   "cell_type": "code",
   "execution_count": 297,
   "metadata": {},
   "outputs": [
    {
     "data": {
      "text/html": [
       "<div>\n",
       "<style scoped>\n",
       "    .dataframe tbody tr th:only-of-type {\n",
       "        vertical-align: middle;\n",
       "    }\n",
       "\n",
       "    .dataframe tbody tr th {\n",
       "        vertical-align: top;\n",
       "    }\n",
       "\n",
       "    .dataframe thead th {\n",
       "        text-align: right;\n",
       "    }\n",
       "</style>\n",
       "<table border=\"1\" class=\"dataframe\">\n",
       "  <thead>\n",
       "    <tr style=\"text-align: right;\">\n",
       "      <th></th>\n",
       "      <th>Count</th>\n",
       "      <th>Percentage</th>\n",
       "    </tr>\n",
       "  </thead>\n",
       "  <tbody>\n",
       "    <tr>\n",
       "      <th>created_at</th>\n",
       "      <td>1557740</td>\n",
       "      <td>100.000</td>\n",
       "    </tr>\n",
       "    <tr>\n",
       "      <th>updated_at</th>\n",
       "      <td>1557740</td>\n",
       "      <td>100.000</td>\n",
       "    </tr>\n",
       "  </tbody>\n",
       "</table>\n",
       "</div>"
      ],
      "text/plain": [
       "              Count  Percentage\n",
       "created_at  1557740     100.000\n",
       "updated_at  1557740     100.000"
      ]
     },
     "execution_count": 297,
     "metadata": {},
     "output_type": "execute_result"
    }
   ],
   "source": [
    "# selecting the instances where missing value is greater than 0\n",
    "pd.DataFrame({'Count':driv_locale_df.isnull().sum()[driv_locale_df.isnull().sum()>0],'Percentage':(driv_locale_df.isnull().sum()[driv_locale_df.isnull().sum()>0]/driv_locale_df.shape[0])*100})"
   ]
  },
  {
   "cell_type": "markdown",
   "metadata": {},
   "source": [
    "- Created at, updated at columns have 1005 of their data missing. We are gonna drop these columns."
   ]
  },
  {
   "cell_type": "code",
   "execution_count": 298,
   "metadata": {},
   "outputs": [],
   "source": [
    "# dropping columns simultaneously\n",
    "driv_locale_df.drop(['created_at','updated_at','id'],axis=1,inplace=True)\n",
    "# driv_locale_df"
   ]
  },
  {
   "cell_type": "code",
   "execution_count": 299,
   "metadata": {},
   "outputs": [
    {
     "data": {
      "text/html": [
       "<div>\n",
       "<style scoped>\n",
       "    .dataframe tbody tr th:only-of-type {\n",
       "        vertical-align: middle;\n",
       "    }\n",
       "\n",
       "    .dataframe tbody tr th {\n",
       "        vertical-align: top;\n",
       "    }\n",
       "\n",
       "    .dataframe thead th {\n",
       "        text-align: right;\n",
       "    }\n",
       "</style>\n",
       "<table border=\"1\" class=\"dataframe\">\n",
       "  <thead>\n",
       "    <tr style=\"text-align: right;\">\n",
       "      <th></th>\n",
       "      <th>order_id</th>\n",
       "      <th>Trip Origin</th>\n",
       "      <th>Trip Destination</th>\n",
       "      <th>Trip Start Time</th>\n",
       "      <th>Trip End Time</th>\n",
       "    </tr>\n",
       "  </thead>\n",
       "  <tbody>\n",
       "    <tr>\n",
       "      <th>0</th>\n",
       "      <td>391996</td>\n",
       "      <td>6.508813001668548,3.37740316890347</td>\n",
       "      <td>6.650969799999999,3.3450307</td>\n",
       "      <td>2021-07-01 07:28:04</td>\n",
       "      <td>2021-07-01 07:29:37</td>\n",
       "    </tr>\n",
       "    <tr>\n",
       "      <th>1</th>\n",
       "      <td>391997</td>\n",
       "      <td>6.4316714,3.4555375</td>\n",
       "      <td>6.4280814653326,3.4721885847586</td>\n",
       "      <td>2021-07-01 06:38:04</td>\n",
       "      <td>2021-07-01 07:07:28</td>\n",
       "    </tr>\n",
       "    <tr>\n",
       "      <th>2</th>\n",
       "      <td>391998</td>\n",
       "      <td>6.631679399999999,3.3388976</td>\n",
       "      <td>6.508324099999999,3.3590397</td>\n",
       "      <td>2021-07-01 06:21:02</td>\n",
       "      <td>2021-07-01 07:02:23</td>\n",
       "    </tr>\n",
       "    <tr>\n",
       "      <th>3</th>\n",
       "      <td>391999</td>\n",
       "      <td>6.572757200000001,3.3677082</td>\n",
       "      <td>6.584881099999999,3.3614073</td>\n",
       "      <td>2021-07-01 07:16:07</td>\n",
       "      <td>2021-07-01 07:29:42</td>\n",
       "    </tr>\n",
       "    <tr>\n",
       "      <th>4</th>\n",
       "      <td>392001</td>\n",
       "      <td>6.6010417,3.2766339</td>\n",
       "      <td>6.4501069,3.3916154</td>\n",
       "      <td>2021-07-01 09:30:59</td>\n",
       "      <td>2021-07-01 09:34:36</td>\n",
       "    </tr>\n",
       "    <tr>\n",
       "      <th>...</th>\n",
       "      <td>...</td>\n",
       "      <td>...</td>\n",
       "      <td>...</td>\n",
       "      <td>...</td>\n",
       "      <td>...</td>\n",
       "    </tr>\n",
       "    <tr>\n",
       "      <th>536015</th>\n",
       "      <td>1637696</td>\n",
       "      <td>6.448218499999999,3.4772075</td>\n",
       "      <td>6.437787399999999,3.481670199999999</td>\n",
       "      <td>2021-12-30 20:35:06</td>\n",
       "      <td>2021-12-30 21:02:59</td>\n",
       "    </tr>\n",
       "    <tr>\n",
       "      <th>536016</th>\n",
       "      <td>1637702</td>\n",
       "      <td>6.442320899999999,3.4736868</td>\n",
       "      <td>6.436589333407897,3.5559738188407835</td>\n",
       "      <td>2021-12-30 20:48:13</td>\n",
       "      <td>2021-12-30 21:43:49</td>\n",
       "    </tr>\n",
       "    <tr>\n",
       "      <th>536017</th>\n",
       "      <td>1637704</td>\n",
       "      <td>6.4281982,3.492248</td>\n",
       "      <td>6.448088500000001,3.4775747</td>\n",
       "      <td>2021-12-30 20:51:45</td>\n",
       "      <td>2021-12-30 21:41:32</td>\n",
       "    </tr>\n",
       "    <tr>\n",
       "      <th>536018</th>\n",
       "      <td>1637705</td>\n",
       "      <td>6.5869296,3.3632966</td>\n",
       "      <td>6.637906899999999,3.3339515</td>\n",
       "      <td>2021-12-30 20:48:50</td>\n",
       "      <td>2021-12-30 21:08:28</td>\n",
       "    </tr>\n",
       "    <tr>\n",
       "      <th>536019</th>\n",
       "      <td>1637709</td>\n",
       "      <td>6.647209999999999,3.4851489</td>\n",
       "      <td>6.454915198823159,3.555839938365194</td>\n",
       "      <td>2021-12-30 20:55:38</td>\n",
       "      <td>2021-12-30 22:25:00</td>\n",
       "    </tr>\n",
       "  </tbody>\n",
       "</table>\n",
       "<p>536020 rows × 5 columns</p>\n",
       "</div>"
      ],
      "text/plain": [
       "        order_id                         Trip Origin  \\\n",
       "0         391996  6.508813001668548,3.37740316890347   \n",
       "1         391997                 6.4316714,3.4555375   \n",
       "2         391998         6.631679399999999,3.3388976   \n",
       "3         391999         6.572757200000001,3.3677082   \n",
       "4         392001                 6.6010417,3.2766339   \n",
       "...          ...                                 ...   \n",
       "536015   1637696         6.448218499999999,3.4772075   \n",
       "536016   1637702         6.442320899999999,3.4736868   \n",
       "536017   1637704                  6.4281982,3.492248   \n",
       "536018   1637705                 6.5869296,3.3632966   \n",
       "536019   1637709         6.647209999999999,3.4851489   \n",
       "\n",
       "                            Trip Destination      Trip Start Time  \\\n",
       "0                6.650969799999999,3.3450307  2021-07-01 07:28:04   \n",
       "1            6.4280814653326,3.4721885847586  2021-07-01 06:38:04   \n",
       "2                6.508324099999999,3.3590397  2021-07-01 06:21:02   \n",
       "3                6.584881099999999,3.3614073  2021-07-01 07:16:07   \n",
       "4                        6.4501069,3.3916154  2021-07-01 09:30:59   \n",
       "...                                      ...                  ...   \n",
       "536015   6.437787399999999,3.481670199999999  2021-12-30 20:35:06   \n",
       "536016  6.436589333407897,3.5559738188407835  2021-12-30 20:48:13   \n",
       "536017           6.448088500000001,3.4775747  2021-12-30 20:51:45   \n",
       "536018           6.637906899999999,3.3339515  2021-12-30 20:48:50   \n",
       "536019   6.454915198823159,3.555839938365194  2021-12-30 20:55:38   \n",
       "\n",
       "              Trip End Time  \n",
       "0       2021-07-01 07:29:37  \n",
       "1       2021-07-01 07:07:28  \n",
       "2       2021-07-01 07:02:23  \n",
       "3       2021-07-01 07:29:42  \n",
       "4       2021-07-01 09:34:36  \n",
       "...                     ...  \n",
       "536015  2021-12-30 21:02:59  \n",
       "536016  2021-12-30 21:43:49  \n",
       "536017  2021-12-30 21:41:32  \n",
       "536018  2021-12-30 21:08:28  \n",
       "536019  2021-12-30 22:25:00  \n",
       "\n",
       "[536020 rows x 5 columns]"
      ]
     },
     "execution_count": 299,
     "metadata": {},
     "output_type": "execute_result"
    }
   ],
   "source": [
    "#Merging of datasets\n",
    "\n",
    "# a bit of preprocessing before performing a merge\n",
    "trip_det_df.rename(columns={'Trip ID': 'order_id'}, inplace=True)\n",
    "trip_det_df\n"
   ]
  },
  {
   "cell_type": "code",
   "execution_count": 300,
   "metadata": {},
   "outputs": [
    {
     "data": {
      "text/html": [
       "<div>\n",
       "<style scoped>\n",
       "    .dataframe tbody tr th:only-of-type {\n",
       "        vertical-align: middle;\n",
       "    }\n",
       "\n",
       "    .dataframe tbody tr th {\n",
       "        vertical-align: top;\n",
       "    }\n",
       "\n",
       "    .dataframe thead th {\n",
       "        text-align: right;\n",
       "    }\n",
       "</style>\n",
       "<table border=\"1\" class=\"dataframe\">\n",
       "  <thead>\n",
       "    <tr style=\"text-align: right;\">\n",
       "      <th></th>\n",
       "      <th>order_id</th>\n",
       "      <th>Trip Origin</th>\n",
       "      <th>Trip Destination</th>\n",
       "      <th>Trip Start Time</th>\n",
       "      <th>Trip End Time</th>\n",
       "      <th>driver_id</th>\n",
       "      <th>driver_action</th>\n",
       "      <th>lat</th>\n",
       "      <th>lng</th>\n",
       "    </tr>\n",
       "  </thead>\n",
       "  <tbody>\n",
       "    <tr>\n",
       "      <th>0</th>\n",
       "      <td>392001</td>\n",
       "      <td>6.6010417,3.2766339</td>\n",
       "      <td>6.4501069,3.3916154</td>\n",
       "      <td>2021-07-01 09:30:59</td>\n",
       "      <td>2021-07-01 09:34:36</td>\n",
       "      <td>243828</td>\n",
       "      <td>accepted</td>\n",
       "      <td>6.602</td>\n",
       "      <td>3.270</td>\n",
       "    </tr>\n",
       "    <tr>\n",
       "      <th>1</th>\n",
       "      <td>392001</td>\n",
       "      <td>6.6010417,3.2766339</td>\n",
       "      <td>6.4501069,3.3916154</td>\n",
       "      <td>2021-07-01 09:30:59</td>\n",
       "      <td>2021-07-01 09:34:36</td>\n",
       "      <td>243588</td>\n",
       "      <td>rejected</td>\n",
       "      <td>6.592</td>\n",
       "      <td>3.287</td>\n",
       "    </tr>\n",
       "    <tr>\n",
       "      <th>2</th>\n",
       "      <td>392001</td>\n",
       "      <td>6.6010417,3.2766339</td>\n",
       "      <td>6.4501069,3.3916154</td>\n",
       "      <td>2021-07-01 09:30:59</td>\n",
       "      <td>2021-07-01 09:34:36</td>\n",
       "      <td>243830</td>\n",
       "      <td>rejected</td>\n",
       "      <td>6.596</td>\n",
       "      <td>3.282</td>\n",
       "    </tr>\n",
       "    <tr>\n",
       "      <th>3</th>\n",
       "      <td>392001</td>\n",
       "      <td>6.6010417,3.2766339</td>\n",
       "      <td>6.4501069,3.3916154</td>\n",
       "      <td>2021-07-01 09:30:59</td>\n",
       "      <td>2021-07-01 09:34:36</td>\n",
       "      <td>243539</td>\n",
       "      <td>rejected</td>\n",
       "      <td>6.596</td>\n",
       "      <td>3.281</td>\n",
       "    </tr>\n",
       "    <tr>\n",
       "      <th>4</th>\n",
       "      <td>392001</td>\n",
       "      <td>6.6010417,3.2766339</td>\n",
       "      <td>6.4501069,3.3916154</td>\n",
       "      <td>2021-07-01 09:30:59</td>\n",
       "      <td>2021-07-01 09:34:36</td>\n",
       "      <td>171653</td>\n",
       "      <td>rejected</td>\n",
       "      <td>6.609</td>\n",
       "      <td>3.289</td>\n",
       "    </tr>\n",
       "  </tbody>\n",
       "</table>\n",
       "</div>"
      ],
      "text/plain": [
       "   order_id          Trip Origin     Trip Destination      Trip Start Time  \\\n",
       "0    392001  6.6010417,3.2766339  6.4501069,3.3916154  2021-07-01 09:30:59   \n",
       "1    392001  6.6010417,3.2766339  6.4501069,3.3916154  2021-07-01 09:30:59   \n",
       "2    392001  6.6010417,3.2766339  6.4501069,3.3916154  2021-07-01 09:30:59   \n",
       "3    392001  6.6010417,3.2766339  6.4501069,3.3916154  2021-07-01 09:30:59   \n",
       "4    392001  6.6010417,3.2766339  6.4501069,3.3916154  2021-07-01 09:30:59   \n",
       "\n",
       "         Trip End Time  driver_id driver_action   lat   lng  \n",
       "0  2021-07-01 09:34:36     243828      accepted 6.602 3.270  \n",
       "1  2021-07-01 09:34:36     243588      rejected 6.592 3.287  \n",
       "2  2021-07-01 09:34:36     243830      rejected 6.596 3.282  \n",
       "3  2021-07-01 09:34:36     243539      rejected 6.596 3.281  \n",
       "4  2021-07-01 09:34:36     171653      rejected 6.609 3.289  "
      ]
     },
     "execution_count": 300,
     "metadata": {},
     "output_type": "execute_result"
    }
   ],
   "source": [
    "# inner merge\n",
    "merged_df= pd.merge(trip_det_df,driv_locale_df,how='inner',on='order_id') \n",
    "merged_df.head()"
   ]
  },
  {
   "cell_type": "code",
   "execution_count": 301,
   "metadata": {},
   "outputs": [],
   "source": [
    "# Convert the date columns to datetime\n",
    "merged_df['Trip Start Time'] = pd.to_datetime(merged_df['Trip Start Time'])\n",
    "merged_df['Trip End Time'] = pd.to_datetime(merged_df['Trip End Time'])"
   ]
  },
  {
   "cell_type": "code",
   "execution_count": 302,
   "metadata": {},
   "outputs": [
    {
     "name": "stdout",
     "output_type": "stream",
     "text": [
      "<class 'pandas.core.frame.DataFrame'>\n",
      "RangeIndex: 1557740 entries, 0 to 1557739\n",
      "Data columns (total 9 columns):\n",
      " #   Column            Non-Null Count    Dtype         \n",
      "---  ------            --------------    -----         \n",
      " 0   order_id          1557740 non-null  int64         \n",
      " 1   Trip Origin       1557740 non-null  object        \n",
      " 2   Trip Destination  1557740 non-null  object        \n",
      " 3   Trip Start Time   1555718 non-null  datetime64[ns]\n",
      " 4   Trip End Time     1557740 non-null  datetime64[ns]\n",
      " 5   driver_id         1557740 non-null  int64         \n",
      " 6   driver_action     1557740 non-null  object        \n",
      " 7   lat               1557740 non-null  float64       \n",
      " 8   lng               1557740 non-null  float64       \n",
      "dtypes: datetime64[ns](2), float64(2), int64(2), object(3)\n",
      "memory usage: 107.0+ MB\n"
     ]
    }
   ],
   "source": [
    "# check info\n",
    "merged_df.info()"
   ]
  },
  {
   "cell_type": "code",
   "execution_count": 303,
   "metadata": {},
   "outputs": [
    {
     "data": {
      "text/html": [
       "<div>\n",
       "<style scoped>\n",
       "    .dataframe tbody tr th:only-of-type {\n",
       "        vertical-align: middle;\n",
       "    }\n",
       "\n",
       "    .dataframe tbody tr th {\n",
       "        vertical-align: top;\n",
       "    }\n",
       "\n",
       "    .dataframe thead th {\n",
       "        text-align: right;\n",
       "    }\n",
       "</style>\n",
       "<table border=\"1\" class=\"dataframe\">\n",
       "  <thead>\n",
       "    <tr style=\"text-align: right;\">\n",
       "      <th></th>\n",
       "      <th>Count</th>\n",
       "      <th>Percentage</th>\n",
       "    </tr>\n",
       "  </thead>\n",
       "  <tbody>\n",
       "    <tr>\n",
       "      <th>Trip Start Time</th>\n",
       "      <td>2022</td>\n",
       "      <td>0.130</td>\n",
       "    </tr>\n",
       "  </tbody>\n",
       "</table>\n",
       "</div>"
      ],
      "text/plain": [
       "                 Count  Percentage\n",
       "Trip Start Time   2022       0.130"
      ]
     },
     "execution_count": 303,
     "metadata": {},
     "output_type": "execute_result"
    }
   ],
   "source": [
    "# selecting the instances where missing value is greater than 0\n",
    "pd.DataFrame({'Count':merged_df.isnull().sum()[merged_df.isnull().sum()>0],'Percentage':(merged_df.isnull().sum()[merged_df.isnull().sum()>0]/merged_df.shape[0])*100})"
   ]
  },
  {
   "cell_type": "code",
   "execution_count": 304,
   "metadata": {},
   "outputs": [],
   "source": [
    "# Drop rows with missing values in 'Trip Start Time' column\n",
    "merged_df = merged_df.dropna(subset=['Trip Start Time'])"
   ]
  },
  {
   "cell_type": "markdown",
   "metadata": {},
   "source": [
    "- After performing an inner merge, we now have 8 columns. \n",
    "- The trip start time column was detected to have a few missing records. Since these were'nt many, they were dropped."
   ]
  },
  {
   "cell_type": "code",
   "execution_count": 305,
   "metadata": {},
   "outputs": [
    {
     "data": {
      "image/png": "[encoded data removed]",
      "text/plain": [
       "<Figure size 1500x1200 with 4 Axes>"
      ]
     },
     "metadata": {},
     "output_type": "display_data"
    }
   ],
   "source": [
    "# outlier detection using boxplot\n",
    "numeric_columns = merged_df.select_dtypes(include=np.number).columns.tolist()\n",
    "\n",
    "plt.figure(figsize=(15, 12))\n",
    "\n",
    "for i, variable in enumerate(numeric_columns):\n",
    "    plt.subplot(4, 4, i + 1)\n",
    "    plt.boxplot(merged_df[variable], whis=1.5)\n",
    "    plt.tight_layout()\n",
    "    plt.title(variable)\n",
    "\n",
    "plt.show()"
   ]
  },
  {
   "cell_type": "code",
   "execution_count": 306,
   "metadata": {},
   "outputs": [],
   "source": [
    "# to find the 25th percentile and 75th percentile for the numerical columns.\n",
    "Q1 = merged_df[numeric_columns].quantile(0.25)\n",
    "Q3 = merged_df[numeric_columns].quantile(0.75)\n",
    "# Calculates the interquartile range (IQR) using the difference\n",
    "# between the 75th and 25th percentiles\n",
    "IQR = Q3 - Q1                   \n",
    "# calculating lower whisker and upper whisker\n",
    "lower_whisker = Q1 - 1.5*IQR    \n",
    "upper_whisker = Q3 + 1.5*IQR"
   ]
  },
  {
   "cell_type": "code",
   "execution_count": 307,
   "metadata": {},
   "outputs": [
    {
     "data": {
      "text/plain": [
       "order_id     0.009\n",
       "driver_id   23.409\n",
       "lat          0.001\n",
       "lng         15.712\n",
       "dtype: float64"
      ]
     },
     "execution_count": 307,
     "metadata": {},
     "output_type": "execute_result"
    }
   ],
   "source": [
    "# Percentage of outliers in each column\n",
    "((merged_df[numeric_columns] < lower_whisker) | (merged_df[numeric_columns] > upper_whisker)).sum()/merged_df.shape[0]*100"
   ]
  },
  {
   "cell_type": "markdown",
   "metadata": {},
   "source": [
    "- A few outliers exist in driver id and lng columns.\n",
    "- We shall not treat this outliers as they could be significant\n"
   ]
  },
  {
   "cell_type": "markdown",
   "metadata": {},
   "source": [
    "## Exploratory Data Analysis (EDA)"
   ]
  },
  {
   "cell_type": "markdown",
   "metadata": {},
   "source": [
    "**The below functions need to be defined to carry out the EDA.**"
   ]
  },
  {
   "cell_type": "code",
   "execution_count": 308,
   "metadata": {},
   "outputs": [],
   "source": [
    "def histogram_boxplot(merged_df, feature, figsize=(15, 10), kde=False, bins=None):\n",
    "    \"\"\"\n",
    "    Boxplot and histogram combined\n",
    "\n",
    "    data: dataframe\n",
    "    feature: dataframe column\n",
    "    figsize: size of figure (default (15,10))\n",
    "    kde: whether to show the density curve (default False)\n",
    "    bins: number of bins for histogram (default None)\n",
    "    \"\"\"\n",
    "    f2, (ax_box2, ax_hist2) = plt.subplots(\n",
    "        nrows=2,  # Number of rows of the subplot grid= 2\n",
    "        sharex=True,  # x-axis will be shared among all subplots\n",
    "        gridspec_kw={\"height_ratios\": (0.25, 0.75)},\n",
    "        figsize=figsize,\n",
    "    )  # creating the 2 subplots\n",
    "    sns.boxplot(\n",
    "        data=merged_df, x=feature, ax=ax_box2, showmeans=True, color=\"violet\"\n",
    "    )  # boxplot will be created and a triangle will indicate the mean value of the column\n",
    "    sns.histplot(\n",
    "        data=merged_df, x=feature, kde=kde, ax=ax_hist2, bins=bins\n",
    "    ) if bins else sns.histplot(\n",
    "        data=merged_df, x=feature, kde=kde, ax=ax_hist2\n",
    "    )  # For histogram\n",
    "    ax_hist2.axvline(\n",
    "        merged_df[feature].mean(), color=\"green\", linestyle=\"--\"\n",
    "    )  # Add mean to the histogram\n",
    "    ax_hist2.axvline(\n",
    "        merged_df[feature].median(), color=\"black\", linestyle=\"-\"\n",
    "    )  # Add median to the histogram"
   ]
  },
  {
   "cell_type": "code",
   "execution_count": 309,
   "metadata": {},
   "outputs": [],
   "source": [
    "# function to create labeled barplots\n",
    "\n",
    "\n",
    "def labeled_barplot(merged_df, feature, perc=False, n=None):\n",
    "    \"\"\"\n",
    "    Barplot with percentage at the top\n",
    "\n",
    "    data: dataframe\n",
    "    feature: dataframe column\n",
    "    perc: whether to display percentages instead of count (default is False)\n",
    "    n: displays the top n category levels (default is None, i.e., display all levels)\n",
    "    \"\"\"\n",
    "\n",
    "    total = len(merged_df[feature])  # length of the column\n",
    "    count = merged_df[feature].nunique()\n",
    "    if n is None:\n",
    "        plt.figure(figsize=(count + 2, 6))\n",
    "    else:\n",
    "        plt.figure(figsize=(n + 2, 6))\n",
    "\n",
    "    plt.xticks(rotation=90, fontsize=15)\n",
    "    ax = sns.countplot(\n",
    "        data=merged_df,\n",
    "        x=feature,\n",
    "        palette=\"Paired\",\n",
    "        order=merged_df[feature].value_counts().index[:n],\n",
    "    )\n",
    "\n",
    "    for p in ax.patches:\n",
    "        if perc == True:\n",
    "            label = \"{:.1f}%\".format(\n",
    "                100 * p.get_height() / total\n",
    "            )  # percentage of each class of the category\n",
    "        else:\n",
    "            label = p.get_height()  # count of each level of the category\n",
    "\n",
    "        x = p.get_x() + p.get_width() / 2  # width of the plot\n",
    "        y = p.get_height()  # height of the plot\n",
    "\n",
    "        ax.annotate(\n",
    "            label,\n",
    "            (x, y),\n",
    "            ha=\"center\",\n",
    "            va=\"center\",\n",
    "            size=12,\n",
    "            xytext=(0, 5),\n",
    "            textcoords=\"offset points\",\n",
    "        )  # annotate the percentage\n",
    "\n",
    "    plt.show()  # show the plot"
   ]
  },
  {
   "cell_type": "code",
   "execution_count": 310,
   "metadata": {},
   "outputs": [],
   "source": [
    "def stacked_barplot(data, predictor, target):\n",
    "    \"\"\"\n",
    "    Print the category counts and plot a stacked bar chart\n",
    "\n",
    "    data: dataframe\n",
    "    predictor: independent variable\n",
    "    target: target variable\n",
    "    \"\"\"\n",
    "    count = data[predictor].nunique()\n",
    "    sorter = data[target].value_counts().index[-1]\n",
    "    tab1 = pd.crosstab(data[predictor], data[target], margins=True).sort_values(\n",
    "        by=sorter, ascending=False\n",
    "    )\n",
    "    print(tab1)\n",
    "    print(\"-\" * 120)\n",
    "    tab = pd.crosstab(data[predictor], data[target], normalize=\"index\").sort_values(\n",
    "        by=sorter, ascending=False\n",
    "    )\n",
    "    tab.plot(kind=\"bar\", stacked=True, figsize=(count + 5, 5))\n",
    "    plt.legend(\n",
    "        loc=\"lower left\", frameon=False,\n",
    "    )\n",
    "    plt.legend(loc=\"upper left\", bbox_to_anchor=(1, 1))\n",
    "    plt.show()"
   ]
  },
  {
   "cell_type": "markdown",
   "metadata": {},
   "source": [
    "### Univariate Analysis"
   ]
  },
  {
   "cell_type": "markdown",
   "metadata": {},
   "source": [
    "#### Observations on order_id"
   ]
  },
  {
   "cell_type": "code",
   "execution_count": 311,
   "metadata": {},
   "outputs": [
    {
     "data": {
      "image/png": "[encoded data removed]",
      "text/plain": [
       "<Figure size 1500x1000 with 2 Axes>"
      ]
     },
     "metadata": {},
     "output_type": "display_data"
    }
   ],
   "source": [
    "histogram_boxplot(merged_df, \"order_id\")"
   ]
  },
  {
   "cell_type": "markdown",
   "metadata": {},
   "source": [
    "- Distribution of order id is skewed to the left."
   ]
  },
  {
   "cell_type": "markdown",
   "metadata": {},
   "source": [
    "#### Observations on driver_id"
   ]
  },
  {
   "cell_type": "code",
   "execution_count": 312,
   "metadata": {},
   "outputs": [
    {
     "data": {
      "image/png": "[encoded data removed]",
      "text/plain": [
       "<Figure size 1500x1000 with 2 Axes>"
      ]
     },
     "metadata": {},
     "output_type": "display_data"
    }
   ],
   "source": [
    "histogram_boxplot(merged_df, \"driver_id\")"
   ]
  },
  {
   "cell_type": "markdown",
   "metadata": {},
   "source": [
    "- Distribution of driver id is skewed to the left."
   ]
  },
  {
   "cell_type": "markdown",
   "metadata": {},
   "source": [
    "#### Observations on latitude"
   ]
  },
  {
   "cell_type": "code",
   "execution_count": 313,
   "metadata": {},
   "outputs": [
    {
     "data": {
      "image/png": "[encoded data removed]",
      "text/plain": [
       "<Figure size 1500x1000 with 2 Axes>"
      ]
     },
     "metadata": {},
     "output_type": "display_data"
    }
   ],
   "source": [
    "histogram_boxplot(merged_df, \"lat\")"
   ]
  },
  {
   "cell_type": "markdown",
   "metadata": {},
   "source": [
    "- Distribution of latitude is symmetrical."
   ]
  },
  {
   "cell_type": "markdown",
   "metadata": {},
   "source": [
    "#### Observations on longitude"
   ]
  },
  {
   "cell_type": "code",
   "execution_count": 314,
   "metadata": {},
   "outputs": [
    {
     "data": {
      "image/png": "[encoded data removed]",
      "text/plain": [
       "<Figure size 1500x1000 with 2 Axes>"
      ]
     },
     "metadata": {},
     "output_type": "display_data"
    }
   ],
   "source": [
    "histogram_boxplot(merged_df, \"lng\")"
   ]
  },
  {
   "cell_type": "markdown",
   "metadata": {},
   "source": [
    "- Distribution of longitude is skewed to the right."
   ]
  },
  {
   "cell_type": "markdown",
   "metadata": {},
   "source": [
    "#### Observations on driver action"
   ]
  },
  {
   "cell_type": "code",
   "execution_count": 315,
   "metadata": {},
   "outputs": [
    {
     "data": {
      "image/png": "[encoded data removed]",
      "text/plain": [
       "<Figure size 400x600 with 1 Axes>"
      ]
     },
     "metadata": {},
     "output_type": "display_data"
    }
   ],
   "source": [
    "labeled_barplot(merged_df, \"driver_action\", perc=True)"
   ]
  },
  {
   "cell_type": "markdown",
   "metadata": {},
   "source": [
    "- 98% of order requests are rejected by drivers."
   ]
  },
  {
   "cell_type": "markdown",
   "metadata": {},
   "source": [
    "#### Observations on trip origin"
   ]
  },
  {
   "cell_type": "code",
   "execution_count": 316,
   "metadata": {},
   "outputs": [
    {
     "data": {
      "image/png": "[encoded data removed]",
      "text/plain": [
       "<Figure size 1200x600 with 1 Axes>"
      ]
     },
     "metadata": {},
     "output_type": "display_data"
    }
   ],
   "source": [
    "labeled_barplot(merged_df, \"Trip Origin\", perc=True, n=10)"
   ]
  },
  {
   "cell_type": "markdown",
   "metadata": {},
   "source": [
    "- 0.5% of requests come from the same origin."
   ]
  },
  {
   "cell_type": "markdown",
   "metadata": {},
   "source": [
    "## Feature Engineering"
   ]
  },
  {
   "cell_type": "code",
   "execution_count": 317,
   "metadata": {},
   "outputs": [
    {
     "name": "stdout",
     "output_type": "stream",
     "text": [
      "Adding holiday feature...\n",
      "Adding weekend feature...\n",
      "Adding hour feature...\n"
     ]
    },
    {
     "data": {
      "text/html": [
       "<div>\n",
       "<style scoped>\n",
       "    .dataframe tbody tr th:only-of-type {\n",
       "        vertical-align: middle;\n",
       "    }\n",
       "\n",
       "    .dataframe tbody tr th {\n",
       "        vertical-align: top;\n",
       "    }\n",
       "\n",
       "    .dataframe thead th {\n",
       "        text-align: right;\n",
       "    }\n",
       "</style>\n",
       "<table border=\"1\" class=\"dataframe\">\n",
       "  <thead>\n",
       "    <tr style=\"text-align: right;\">\n",
       "      <th></th>\n",
       "      <th>order_id</th>\n",
       "      <th>Trip Origin</th>\n",
       "      <th>Trip Destination</th>\n",
       "      <th>Trip Start Time</th>\n",
       "      <th>Trip End Time</th>\n",
       "      <th>driver_id</th>\n",
       "      <th>driver_action</th>\n",
       "      <th>lat</th>\n",
       "      <th>lng</th>\n",
       "      <th>is_holiday</th>\n",
       "      <th>is_weekend</th>\n",
       "      <th>hour</th>\n",
       "    </tr>\n",
       "  </thead>\n",
       "  <tbody>\n",
       "    <tr>\n",
       "      <th>0</th>\n",
       "      <td>392001</td>\n",
       "      <td>6.6010417,3.2766339</td>\n",
       "      <td>6.4501069,3.3916154</td>\n",
       "      <td>2021-07-01 09:30:59</td>\n",
       "      <td>2021-07-01 09:34:36</td>\n",
       "      <td>243828</td>\n",
       "      <td>accepted</td>\n",
       "      <td>6.602</td>\n",
       "      <td>3.270</td>\n",
       "      <td>False</td>\n",
       "      <td>False</td>\n",
       "      <td>9</td>\n",
       "    </tr>\n",
       "    <tr>\n",
       "      <th>1</th>\n",
       "      <td>392001</td>\n",
       "      <td>6.6010417,3.2766339</td>\n",
       "      <td>6.4501069,3.3916154</td>\n",
       "      <td>2021-07-01 09:30:59</td>\n",
       "      <td>2021-07-01 09:34:36</td>\n",
       "      <td>243588</td>\n",
       "      <td>rejected</td>\n",
       "      <td>6.592</td>\n",
       "      <td>3.287</td>\n",
       "      <td>False</td>\n",
       "      <td>False</td>\n",
       "      <td>9</td>\n",
       "    </tr>\n",
       "    <tr>\n",
       "      <th>2</th>\n",
       "      <td>392001</td>\n",
       "      <td>6.6010417,3.2766339</td>\n",
       "      <td>6.4501069,3.3916154</td>\n",
       "      <td>2021-07-01 09:30:59</td>\n",
       "      <td>2021-07-01 09:34:36</td>\n",
       "      <td>243830</td>\n",
       "      <td>rejected</td>\n",
       "      <td>6.596</td>\n",
       "      <td>3.282</td>\n",
       "      <td>False</td>\n",
       "      <td>False</td>\n",
       "      <td>9</td>\n",
       "    </tr>\n",
       "    <tr>\n",
       "      <th>3</th>\n",
       "      <td>392001</td>\n",
       "      <td>6.6010417,3.2766339</td>\n",
       "      <td>6.4501069,3.3916154</td>\n",
       "      <td>2021-07-01 09:30:59</td>\n",
       "      <td>2021-07-01 09:34:36</td>\n",
       "      <td>243539</td>\n",
       "      <td>rejected</td>\n",
       "      <td>6.596</td>\n",
       "      <td>3.281</td>\n",
       "      <td>False</td>\n",
       "      <td>False</td>\n",
       "      <td>9</td>\n",
       "    </tr>\n",
       "    <tr>\n",
       "      <th>4</th>\n",
       "      <td>392001</td>\n",
       "      <td>6.6010417,3.2766339</td>\n",
       "      <td>6.4501069,3.3916154</td>\n",
       "      <td>2021-07-01 09:30:59</td>\n",
       "      <td>2021-07-01 09:34:36</td>\n",
       "      <td>171653</td>\n",
       "      <td>rejected</td>\n",
       "      <td>6.609</td>\n",
       "      <td>3.289</td>\n",
       "      <td>False</td>\n",
       "      <td>False</td>\n",
       "      <td>9</td>\n",
       "    </tr>\n",
       "  </tbody>\n",
       "</table>\n",
       "</div>"
      ],
      "text/plain": [
       "   order_id          Trip Origin     Trip Destination     Trip Start Time  \\\n",
       "0    392001  6.6010417,3.2766339  6.4501069,3.3916154 2021-07-01 09:30:59   \n",
       "1    392001  6.6010417,3.2766339  6.4501069,3.3916154 2021-07-01 09:30:59   \n",
       "2    392001  6.6010417,3.2766339  6.4501069,3.3916154 2021-07-01 09:30:59   \n",
       "3    392001  6.6010417,3.2766339  6.4501069,3.3916154 2021-07-01 09:30:59   \n",
       "4    392001  6.6010417,3.2766339  6.4501069,3.3916154 2021-07-01 09:30:59   \n",
       "\n",
       "        Trip End Time  driver_id driver_action   lat   lng  is_holiday  \\\n",
       "0 2021-07-01 09:34:36     243828      accepted 6.602 3.270       False   \n",
       "1 2021-07-01 09:34:36     243588      rejected 6.592 3.287       False   \n",
       "2 2021-07-01 09:34:36     243830      rejected 6.596 3.282       False   \n",
       "3 2021-07-01 09:34:36     243539      rejected 6.596 3.281       False   \n",
       "4 2021-07-01 09:34:36     171653      rejected 6.609 3.289       False   \n",
       "\n",
       "   is_weekend  hour  \n",
       "0       False     9  \n",
       "1       False     9  \n",
       "2       False     9  \n",
       "3       False     9  \n",
       "4       False     9  "
      ]
     },
     "execution_count": 317,
     "metadata": {},
     "output_type": "execute_result"
    }
   ],
   "source": [
    "# Define the country for holidays\n",
    "country_holidays = holidays.CountryHoliday('NG')  # NG is the country code for Nigeria\n",
    "\n",
    "# Function to check if a date is a holiday\n",
    "def is_holiday(date):\n",
    "    return date in country_holidays\n",
    "\n",
    "# Function to check if a date is a weekend\n",
    "def is_weekend(date):\n",
    "    return date.weekday() >= 5\n",
    "\n",
    "# Function to get the hour of the day\n",
    "def get_hour(date):\n",
    "    return date.hour\n",
    "\n",
    "# Add holiday, weekend, and hour features\n",
    "\n",
    "# Check if the trip start time is a holiday\n",
    "print('Adding holiday feature...')\n",
    "merged_df['is_holiday'] = merged_df['Trip Start Time'].apply(lambda x: is_holiday(x) if not pd.isnull(x) else False)\n",
    "\n",
    "# Check if the trip start time is a weekend\n",
    "print('Adding weekend feature...')\n",
    "merged_df['is_weekend'] = merged_df['Trip Start Time'].apply(lambda x: is_weekend(x) if not pd.isnull(x) else False)\n",
    "\n",
    "# Get the hour of the trip start time\n",
    "print('Adding hour feature...')\n",
    "merged_df['hour'] = merged_df['Trip Start Time'].apply(lambda x: get_hour(x) if not pd.isnull(x) else -1)\n",
    "\n",
    "# Display the head of the dataframe to check the new features\n",
    "merged_df.head()"
   ]
  },
  {
   "cell_type": "code",
   "execution_count": 318,
   "metadata": {},
   "outputs": [
    {
     "data": {
      "text/html": [
       "<div>\n",
       "<style scoped>\n",
       "    .dataframe tbody tr th:only-of-type {\n",
       "        vertical-align: middle;\n",
       "    }\n",
       "\n",
       "    .dataframe tbody tr th {\n",
       "        vertical-align: top;\n",
       "    }\n",
       "\n",
       "    .dataframe thead th {\n",
       "        text-align: right;\n",
       "    }\n",
       "</style>\n",
       "<table border=\"1\" class=\"dataframe\">\n",
       "  <thead>\n",
       "    <tr style=\"text-align: right;\">\n",
       "      <th></th>\n",
       "      <th>order_id</th>\n",
       "      <th>Trip Origin</th>\n",
       "      <th>Trip Destination</th>\n",
       "      <th>Trip Start Time</th>\n",
       "      <th>Trip End Time</th>\n",
       "      <th>driver_id</th>\n",
       "      <th>driver_action</th>\n",
       "      <th>lat</th>\n",
       "      <th>lng</th>\n",
       "      <th>is_holiday</th>\n",
       "      <th>is_weekend</th>\n",
       "      <th>hour</th>\n",
       "      <th>Day of Week</th>\n",
       "      <th>Is Weekend</th>\n",
       "    </tr>\n",
       "  </thead>\n",
       "  <tbody>\n",
       "    <tr>\n",
       "      <th>0</th>\n",
       "      <td>392001</td>\n",
       "      <td>6.6010417,3.2766339</td>\n",
       "      <td>6.4501069,3.3916154</td>\n",
       "      <td>2021-07-01 09:30:59</td>\n",
       "      <td>2021-07-01 09:34:36</td>\n",
       "      <td>243828</td>\n",
       "      <td>accepted</td>\n",
       "      <td>6.602</td>\n",
       "      <td>3.270</td>\n",
       "      <td>False</td>\n",
       "      <td>False</td>\n",
       "      <td>9</td>\n",
       "      <td>3</td>\n",
       "      <td>False</td>\n",
       "    </tr>\n",
       "    <tr>\n",
       "      <th>1</th>\n",
       "      <td>392001</td>\n",
       "      <td>6.6010417,3.2766339</td>\n",
       "      <td>6.4501069,3.3916154</td>\n",
       "      <td>2021-07-01 09:30:59</td>\n",
       "      <td>2021-07-01 09:34:36</td>\n",
       "      <td>243588</td>\n",
       "      <td>rejected</td>\n",
       "      <td>6.592</td>\n",
       "      <td>3.287</td>\n",
       "      <td>False</td>\n",
       "      <td>False</td>\n",
       "      <td>9</td>\n",
       "      <td>3</td>\n",
       "      <td>False</td>\n",
       "    </tr>\n",
       "    <tr>\n",
       "      <th>2</th>\n",
       "      <td>392001</td>\n",
       "      <td>6.6010417,3.2766339</td>\n",
       "      <td>6.4501069,3.3916154</td>\n",
       "      <td>2021-07-01 09:30:59</td>\n",
       "      <td>2021-07-01 09:34:36</td>\n",
       "      <td>243830</td>\n",
       "      <td>rejected</td>\n",
       "      <td>6.596</td>\n",
       "      <td>3.282</td>\n",
       "      <td>False</td>\n",
       "      <td>False</td>\n",
       "      <td>9</td>\n",
       "      <td>3</td>\n",
       "      <td>False</td>\n",
       "    </tr>\n",
       "    <tr>\n",
       "      <th>3</th>\n",
       "      <td>392001</td>\n",
       "      <td>6.6010417,3.2766339</td>\n",
       "      <td>6.4501069,3.3916154</td>\n",
       "      <td>2021-07-01 09:30:59</td>\n",
       "      <td>2021-07-01 09:34:36</td>\n",
       "      <td>243539</td>\n",
       "      <td>rejected</td>\n",
       "      <td>6.596</td>\n",
       "      <td>3.281</td>\n",
       "      <td>False</td>\n",
       "      <td>False</td>\n",
       "      <td>9</td>\n",
       "      <td>3</td>\n",
       "      <td>False</td>\n",
       "    </tr>\n",
       "    <tr>\n",
       "      <th>4</th>\n",
       "      <td>392001</td>\n",
       "      <td>6.6010417,3.2766339</td>\n",
       "      <td>6.4501069,3.3916154</td>\n",
       "      <td>2021-07-01 09:30:59</td>\n",
       "      <td>2021-07-01 09:34:36</td>\n",
       "      <td>171653</td>\n",
       "      <td>rejected</td>\n",
       "      <td>6.609</td>\n",
       "      <td>3.289</td>\n",
       "      <td>False</td>\n",
       "      <td>False</td>\n",
       "      <td>9</td>\n",
       "      <td>3</td>\n",
       "      <td>False</td>\n",
       "    </tr>\n",
       "  </tbody>\n",
       "</table>\n",
       "</div>"
      ],
      "text/plain": [
       "   order_id          Trip Origin     Trip Destination     Trip Start Time  \\\n",
       "0    392001  6.6010417,3.2766339  6.4501069,3.3916154 2021-07-01 09:30:59   \n",
       "1    392001  6.6010417,3.2766339  6.4501069,3.3916154 2021-07-01 09:30:59   \n",
       "2    392001  6.6010417,3.2766339  6.4501069,3.3916154 2021-07-01 09:30:59   \n",
       "3    392001  6.6010417,3.2766339  6.4501069,3.3916154 2021-07-01 09:30:59   \n",
       "4    392001  6.6010417,3.2766339  6.4501069,3.3916154 2021-07-01 09:30:59   \n",
       "\n",
       "        Trip End Time  driver_id driver_action   lat   lng  is_holiday  \\\n",
       "0 2021-07-01 09:34:36     243828      accepted 6.602 3.270       False   \n",
       "1 2021-07-01 09:34:36     243588      rejected 6.592 3.287       False   \n",
       "2 2021-07-01 09:34:36     243830      rejected 6.596 3.282       False   \n",
       "3 2021-07-01 09:34:36     243539      rejected 6.596 3.281       False   \n",
       "4 2021-07-01 09:34:36     171653      rejected 6.609 3.289       False   \n",
       "\n",
       "   is_weekend  hour  Day of Week  Is Weekend  \n",
       "0       False     9            3       False  \n",
       "1       False     9            3       False  \n",
       "2       False     9            3       False  \n",
       "3       False     9            3       False  \n",
       "4       False     9            3       False  "
      ]
     },
     "execution_count": 318,
     "metadata": {},
     "output_type": "execute_result"
    }
   ],
   "source": [
    "# Create time-based features\n",
    "\n",
    "#merged_df['Hour'] = merged_df['Trip Start Time'].dt.hour\n",
    "merged_df['Day of Week'] = merged_df['Trip Start Time'].dt.dayofweek\n",
    "merged_df['Is Weekend'] = merged_df['Day of Week'].isin([5, 6])\n",
    "\n",
    "# Display the first few rows to verify the new columns\n",
    "merged_df.head()"
   ]
  },
  {
   "cell_type": "code",
   "execution_count": 319,
   "metadata": {},
   "outputs": [
    {
     "data": {
      "text/html": [
       "<div>\n",
       "<style scoped>\n",
       "    .dataframe tbody tr th:only-of-type {\n",
       "        vertical-align: middle;\n",
       "    }\n",
       "\n",
       "    .dataframe tbody tr th {\n",
       "        vertical-align: top;\n",
       "    }\n",
       "\n",
       "    .dataframe thead th {\n",
       "        text-align: right;\n",
       "    }\n",
       "</style>\n",
       "<table border=\"1\" class=\"dataframe\">\n",
       "  <thead>\n",
       "    <tr style=\"text-align: right;\">\n",
       "      <th></th>\n",
       "      <th>order_id</th>\n",
       "      <th>Trip Origin</th>\n",
       "      <th>Trip Destination</th>\n",
       "      <th>Trip Start Time</th>\n",
       "      <th>Trip End Time</th>\n",
       "      <th>driver_id</th>\n",
       "      <th>driver_action</th>\n",
       "      <th>lat</th>\n",
       "      <th>lng</th>\n",
       "      <th>is_holiday</th>\n",
       "      <th>...</th>\n",
       "      <th>Start Year</th>\n",
       "      <th>End Hour</th>\n",
       "      <th>End Day</th>\n",
       "      <th>End Month</th>\n",
       "      <th>End Year</th>\n",
       "      <th>Trip Duration</th>\n",
       "      <th>Start Lat</th>\n",
       "      <th>Start Lng</th>\n",
       "      <th>End Lat</th>\n",
       "      <th>End Lng</th>\n",
       "    </tr>\n",
       "  </thead>\n",
       "  <tbody>\n",
       "    <tr>\n",
       "      <th>0</th>\n",
       "      <td>392001</td>\n",
       "      <td>6.6010417,3.2766339</td>\n",
       "      <td>6.4501069,3.3916154</td>\n",
       "      <td>2021-07-01 09:30:59</td>\n",
       "      <td>2021-07-01 09:34:36</td>\n",
       "      <td>243828</td>\n",
       "      <td>accepted</td>\n",
       "      <td>6.602</td>\n",
       "      <td>3.270</td>\n",
       "      <td>False</td>\n",
       "      <td>...</td>\n",
       "      <td>2021</td>\n",
       "      <td>9</td>\n",
       "      <td>1</td>\n",
       "      <td>7</td>\n",
       "      <td>2021</td>\n",
       "      <td>3.617</td>\n",
       "      <td>6.601</td>\n",
       "      <td>3.277</td>\n",
       "      <td>6.450</td>\n",
       "      <td>3.392</td>\n",
       "    </tr>\n",
       "    <tr>\n",
       "      <th>1</th>\n",
       "      <td>392001</td>\n",
       "      <td>6.6010417,3.2766339</td>\n",
       "      <td>6.4501069,3.3916154</td>\n",
       "      <td>2021-07-01 09:30:59</td>\n",
       "      <td>2021-07-01 09:34:36</td>\n",
       "      <td>243588</td>\n",
       "      <td>rejected</td>\n",
       "      <td>6.592</td>\n",
       "      <td>3.287</td>\n",
       "      <td>False</td>\n",
       "      <td>...</td>\n",
       "      <td>2021</td>\n",
       "      <td>9</td>\n",
       "      <td>1</td>\n",
       "      <td>7</td>\n",
       "      <td>2021</td>\n",
       "      <td>3.617</td>\n",
       "      <td>6.601</td>\n",
       "      <td>3.277</td>\n",
       "      <td>6.450</td>\n",
       "      <td>3.392</td>\n",
       "    </tr>\n",
       "    <tr>\n",
       "      <th>2</th>\n",
       "      <td>392001</td>\n",
       "      <td>6.6010417,3.2766339</td>\n",
       "      <td>6.4501069,3.3916154</td>\n",
       "      <td>2021-07-01 09:30:59</td>\n",
       "      <td>2021-07-01 09:34:36</td>\n",
       "      <td>243830</td>\n",
       "      <td>rejected</td>\n",
       "      <td>6.596</td>\n",
       "      <td>3.282</td>\n",
       "      <td>False</td>\n",
       "      <td>...</td>\n",
       "      <td>2021</td>\n",
       "      <td>9</td>\n",
       "      <td>1</td>\n",
       "      <td>7</td>\n",
       "      <td>2021</td>\n",
       "      <td>3.617</td>\n",
       "      <td>6.601</td>\n",
       "      <td>3.277</td>\n",
       "      <td>6.450</td>\n",
       "      <td>3.392</td>\n",
       "    </tr>\n",
       "    <tr>\n",
       "      <th>3</th>\n",
       "      <td>392001</td>\n",
       "      <td>6.6010417,3.2766339</td>\n",
       "      <td>6.4501069,3.3916154</td>\n",
       "      <td>2021-07-01 09:30:59</td>\n",
       "      <td>2021-07-01 09:34:36</td>\n",
       "      <td>243539</td>\n",
       "      <td>rejected</td>\n",
       "      <td>6.596</td>\n",
       "      <td>3.281</td>\n",
       "      <td>False</td>\n",
       "      <td>...</td>\n",
       "      <td>2021</td>\n",
       "      <td>9</td>\n",
       "      <td>1</td>\n",
       "      <td>7</td>\n",
       "      <td>2021</td>\n",
       "      <td>3.617</td>\n",
       "      <td>6.601</td>\n",
       "      <td>3.277</td>\n",
       "      <td>6.450</td>\n",
       "      <td>3.392</td>\n",
       "    </tr>\n",
       "    <tr>\n",
       "      <th>4</th>\n",
       "      <td>392001</td>\n",
       "      <td>6.6010417,3.2766339</td>\n",
       "      <td>6.4501069,3.3916154</td>\n",
       "      <td>2021-07-01 09:30:59</td>\n",
       "      <td>2021-07-01 09:34:36</td>\n",
       "      <td>171653</td>\n",
       "      <td>rejected</td>\n",
       "      <td>6.609</td>\n",
       "      <td>3.289</td>\n",
       "      <td>False</td>\n",
       "      <td>...</td>\n",
       "      <td>2021</td>\n",
       "      <td>9</td>\n",
       "      <td>1</td>\n",
       "      <td>7</td>\n",
       "      <td>2021</td>\n",
       "      <td>3.617</td>\n",
       "      <td>6.601</td>\n",
       "      <td>3.277</td>\n",
       "      <td>6.450</td>\n",
       "      <td>3.392</td>\n",
       "    </tr>\n",
       "  </tbody>\n",
       "</table>\n",
       "<p>5 rows × 27 columns</p>\n",
       "</div>"
      ],
      "text/plain": [
       "   order_id          Trip Origin     Trip Destination     Trip Start Time  \\\n",
       "0    392001  6.6010417,3.2766339  6.4501069,3.3916154 2021-07-01 09:30:59   \n",
       "1    392001  6.6010417,3.2766339  6.4501069,3.3916154 2021-07-01 09:30:59   \n",
       "2    392001  6.6010417,3.2766339  6.4501069,3.3916154 2021-07-01 09:30:59   \n",
       "3    392001  6.6010417,3.2766339  6.4501069,3.3916154 2021-07-01 09:30:59   \n",
       "4    392001  6.6010417,3.2766339  6.4501069,3.3916154 2021-07-01 09:30:59   \n",
       "\n",
       "        Trip End Time  driver_id driver_action   lat   lng  is_holiday  ...  \\\n",
       "0 2021-07-01 09:34:36     243828      accepted 6.602 3.270       False  ...   \n",
       "1 2021-07-01 09:34:36     243588      rejected 6.592 3.287       False  ...   \n",
       "2 2021-07-01 09:34:36     243830      rejected 6.596 3.282       False  ...   \n",
       "3 2021-07-01 09:34:36     243539      rejected 6.596 3.281       False  ...   \n",
       "4 2021-07-01 09:34:36     171653      rejected 6.609 3.289       False  ...   \n",
       "\n",
       "   Start Year  End Hour  End Day  End Month  End Year  Trip Duration  \\\n",
       "0        2021         9        1          7      2021          3.617   \n",
       "1        2021         9        1          7      2021          3.617   \n",
       "2        2021         9        1          7      2021          3.617   \n",
       "3        2021         9        1          7      2021          3.617   \n",
       "4        2021         9        1          7      2021          3.617   \n",
       "\n",
       "   Start Lat  Start Lng  End Lat  End Lng  \n",
       "0      6.601      3.277    6.450    3.392  \n",
       "1      6.601      3.277    6.450    3.392  \n",
       "2      6.601      3.277    6.450    3.392  \n",
       "3      6.601      3.277    6.450    3.392  \n",
       "4      6.601      3.277    6.450    3.392  \n",
       "\n",
       "[5 rows x 27 columns]"
      ]
     },
     "execution_count": 319,
     "metadata": {},
     "output_type": "execute_result"
    }
   ],
   "source": [
    "# Feature extraction\n",
    "from datetime import datetime\n",
    "\n",
    "# Extract date and time features\n",
    "\n",
    "merged_df['Start Hour'] = merged_df['Trip Start Time'].dt.hour\n",
    "merged_df['Start Day'] = merged_df['Trip Start Time'].dt.day\n",
    "merged_df['Start Month'] = merged_df['Trip Start Time'].dt.month\n",
    "merged_df['Start Year'] = merged_df['Trip Start Time'].dt.year\n",
    "\n",
    "merged_df['End Hour'] = merged_df['Trip End Time'].dt.hour\n",
    "merged_df['End Day'] = merged_df['Trip End Time'].dt.day\n",
    "merged_df['End Month'] = merged_df['Trip End Time'].dt.month\n",
    "merged_df['End Year'] = merged_df['Trip End Time'].dt.year\n",
    "\n",
    "# Compute trip duration in minutes\n",
    "merged_df['Trip Duration'] = (merged_df['Trip End Time'] - merged_df['Trip Start Time']).dt.total_seconds() / 60.0\n",
    "\n",
    "# Extract latitude and longitude features\n",
    "\n",
    "merged_df[['Start Lat', 'Start Lng']] = merged_df['Trip Origin'].str.split(',', expand=True).astype(float)\n",
    "merged_df[['End Lat', 'End Lng']] = merged_df['Trip Destination'].str.split(',', expand=True).astype(float)\n",
    "\n",
    "# Display the first few rows with the new features\n",
    "merged_df.head()"
   ]
  },
  {
   "cell_type": "code",
   "execution_count": 320,
   "metadata": {},
   "outputs": [
    {
     "data": {
      "text/plain": [
       "order_id                     int64\n",
       "Trip Origin                 object\n",
       "Trip Destination            object\n",
       "Trip Start Time     datetime64[ns]\n",
       "Trip End Time       datetime64[ns]\n",
       "driver_id                    int64\n",
       "driver_action               object\n",
       "lat                        float64\n",
       "lng                        float64\n",
       "is_holiday                    bool\n",
       "is_weekend                    bool\n",
       "hour                         int64\n",
       "Day of Week                  int32\n",
       "Is Weekend                    bool\n",
       "Start Hour                   int32\n",
       "Start Day                    int32\n",
       "Start Month                  int32\n",
       "Start Year                   int32\n",
       "End Hour                     int32\n",
       "End Day                      int32\n",
       "End Month                    int32\n",
       "End Year                     int32\n",
       "Trip Duration              float64\n",
       "Start Lat                  float64\n",
       "Start Lng                  float64\n",
       "End Lat                    float64\n",
       "End Lng                    float64\n",
       "dtype: object"
      ]
     },
     "execution_count": 320,
     "metadata": {},
     "output_type": "execute_result"
    }
   ],
   "source": [
    "merged_df.dtypes"
   ]
  },
  {
   "cell_type": "code",
   "execution_count": 321,
   "metadata": {},
   "outputs": [
    {
     "data": {
      "text/html": [
       "<div>\n",
       "<style scoped>\n",
       "    .dataframe tbody tr th:only-of-type {\n",
       "        vertical-align: middle;\n",
       "    }\n",
       "\n",
       "    .dataframe tbody tr th {\n",
       "        vertical-align: top;\n",
       "    }\n",
       "\n",
       "    .dataframe thead th {\n",
       "        text-align: right;\n",
       "    }\n",
       "</style>\n",
       "<table border=\"1\" class=\"dataframe\">\n",
       "  <thead>\n",
       "    <tr style=\"text-align: right;\">\n",
       "      <th></th>\n",
       "      <th>order_id</th>\n",
       "      <th>Trip Origin</th>\n",
       "      <th>Trip Destination</th>\n",
       "      <th>Trip Start Time</th>\n",
       "      <th>Trip End Time</th>\n",
       "      <th>driver_id</th>\n",
       "      <th>lat</th>\n",
       "      <th>lng</th>\n",
       "      <th>hour</th>\n",
       "      <th>Day of Week</th>\n",
       "      <th>...</th>\n",
       "      <th>End Day</th>\n",
       "      <th>End Month</th>\n",
       "      <th>End Year</th>\n",
       "      <th>Trip Duration</th>\n",
       "      <th>Start Lat</th>\n",
       "      <th>Start Lng</th>\n",
       "      <th>End Lat</th>\n",
       "      <th>End Lng</th>\n",
       "      <th>driver_action_rejected</th>\n",
       "      <th>is_weekend_True</th>\n",
       "    </tr>\n",
       "  </thead>\n",
       "  <tbody>\n",
       "    <tr>\n",
       "      <th>0</th>\n",
       "      <td>392001</td>\n",
       "      <td>6.6010417,3.2766339</td>\n",
       "      <td>6.4501069,3.3916154</td>\n",
       "      <td>2021-07-01 09:30:59</td>\n",
       "      <td>2021-07-01 09:34:36</td>\n",
       "      <td>243828</td>\n",
       "      <td>6.602</td>\n",
       "      <td>3.270</td>\n",
       "      <td>9</td>\n",
       "      <td>3</td>\n",
       "      <td>...</td>\n",
       "      <td>1</td>\n",
       "      <td>7</td>\n",
       "      <td>2021</td>\n",
       "      <td>3.617</td>\n",
       "      <td>6.601</td>\n",
       "      <td>3.277</td>\n",
       "      <td>6.450</td>\n",
       "      <td>3.392</td>\n",
       "      <td>0</td>\n",
       "      <td>0</td>\n",
       "    </tr>\n",
       "    <tr>\n",
       "      <th>1</th>\n",
       "      <td>392001</td>\n",
       "      <td>6.6010417,3.2766339</td>\n",
       "      <td>6.4501069,3.3916154</td>\n",
       "      <td>2021-07-01 09:30:59</td>\n",
       "      <td>2021-07-01 09:34:36</td>\n",
       "      <td>243588</td>\n",
       "      <td>6.592</td>\n",
       "      <td>3.287</td>\n",
       "      <td>9</td>\n",
       "      <td>3</td>\n",
       "      <td>...</td>\n",
       "      <td>1</td>\n",
       "      <td>7</td>\n",
       "      <td>2021</td>\n",
       "      <td>3.617</td>\n",
       "      <td>6.601</td>\n",
       "      <td>3.277</td>\n",
       "      <td>6.450</td>\n",
       "      <td>3.392</td>\n",
       "      <td>1</td>\n",
       "      <td>0</td>\n",
       "    </tr>\n",
       "    <tr>\n",
       "      <th>2</th>\n",
       "      <td>392001</td>\n",
       "      <td>6.6010417,3.2766339</td>\n",
       "      <td>6.4501069,3.3916154</td>\n",
       "      <td>2021-07-01 09:30:59</td>\n",
       "      <td>2021-07-01 09:34:36</td>\n",
       "      <td>243830</td>\n",
       "      <td>6.596</td>\n",
       "      <td>3.282</td>\n",
       "      <td>9</td>\n",
       "      <td>3</td>\n",
       "      <td>...</td>\n",
       "      <td>1</td>\n",
       "      <td>7</td>\n",
       "      <td>2021</td>\n",
       "      <td>3.617</td>\n",
       "      <td>6.601</td>\n",
       "      <td>3.277</td>\n",
       "      <td>6.450</td>\n",
       "      <td>3.392</td>\n",
       "      <td>1</td>\n",
       "      <td>0</td>\n",
       "    </tr>\n",
       "    <tr>\n",
       "      <th>3</th>\n",
       "      <td>392001</td>\n",
       "      <td>6.6010417,3.2766339</td>\n",
       "      <td>6.4501069,3.3916154</td>\n",
       "      <td>2021-07-01 09:30:59</td>\n",
       "      <td>2021-07-01 09:34:36</td>\n",
       "      <td>243539</td>\n",
       "      <td>6.596</td>\n",
       "      <td>3.281</td>\n",
       "      <td>9</td>\n",
       "      <td>3</td>\n",
       "      <td>...</td>\n",
       "      <td>1</td>\n",
       "      <td>7</td>\n",
       "      <td>2021</td>\n",
       "      <td>3.617</td>\n",
       "      <td>6.601</td>\n",
       "      <td>3.277</td>\n",
       "      <td>6.450</td>\n",
       "      <td>3.392</td>\n",
       "      <td>1</td>\n",
       "      <td>0</td>\n",
       "    </tr>\n",
       "    <tr>\n",
       "      <th>4</th>\n",
       "      <td>392001</td>\n",
       "      <td>6.6010417,3.2766339</td>\n",
       "      <td>6.4501069,3.3916154</td>\n",
       "      <td>2021-07-01 09:30:59</td>\n",
       "      <td>2021-07-01 09:34:36</td>\n",
       "      <td>171653</td>\n",
       "      <td>6.609</td>\n",
       "      <td>3.289</td>\n",
       "      <td>9</td>\n",
       "      <td>3</td>\n",
       "      <td>...</td>\n",
       "      <td>1</td>\n",
       "      <td>7</td>\n",
       "      <td>2021</td>\n",
       "      <td>3.617</td>\n",
       "      <td>6.601</td>\n",
       "      <td>3.277</td>\n",
       "      <td>6.450</td>\n",
       "      <td>3.392</td>\n",
       "      <td>1</td>\n",
       "      <td>0</td>\n",
       "    </tr>\n",
       "  </tbody>\n",
       "</table>\n",
       "<p>5 rows × 26 columns</p>\n",
       "</div>"
      ],
      "text/plain": [
       "   order_id          Trip Origin     Trip Destination     Trip Start Time  \\\n",
       "0    392001  6.6010417,3.2766339  6.4501069,3.3916154 2021-07-01 09:30:59   \n",
       "1    392001  6.6010417,3.2766339  6.4501069,3.3916154 2021-07-01 09:30:59   \n",
       "2    392001  6.6010417,3.2766339  6.4501069,3.3916154 2021-07-01 09:30:59   \n",
       "3    392001  6.6010417,3.2766339  6.4501069,3.3916154 2021-07-01 09:30:59   \n",
       "4    392001  6.6010417,3.2766339  6.4501069,3.3916154 2021-07-01 09:30:59   \n",
       "\n",
       "        Trip End Time  driver_id   lat   lng  hour  Day of Week  ...  End Day  \\\n",
       "0 2021-07-01 09:34:36     243828 6.602 3.270     9            3  ...        1   \n",
       "1 2021-07-01 09:34:36     243588 6.592 3.287     9            3  ...        1   \n",
       "2 2021-07-01 09:34:36     243830 6.596 3.282     9            3  ...        1   \n",
       "3 2021-07-01 09:34:36     243539 6.596 3.281     9            3  ...        1   \n",
       "4 2021-07-01 09:34:36     171653 6.609 3.289     9            3  ...        1   \n",
       "\n",
       "   End Month  End Year  Trip Duration  Start Lat  Start Lng  End Lat  End Lng  \\\n",
       "0          7      2021          3.617      6.601      3.277    6.450    3.392   \n",
       "1          7      2021          3.617      6.601      3.277    6.450    3.392   \n",
       "2          7      2021          3.617      6.601      3.277    6.450    3.392   \n",
       "3          7      2021          3.617      6.601      3.277    6.450    3.392   \n",
       "4          7      2021          3.617      6.601      3.277    6.450    3.392   \n",
       "\n",
       "   driver_action_rejected  is_weekend_True  \n",
       "0                       0                0  \n",
       "1                       1                0  \n",
       "2                       1                0  \n",
       "3                       1                0  \n",
       "4                       1                0  \n",
       "\n",
       "[5 rows x 26 columns]"
      ]
     },
     "execution_count": 321,
     "metadata": {},
     "output_type": "execute_result"
    }
   ],
   "source": [
    "merged_df = pd.get_dummies(merged_df, columns=['driver_action', 'is_holiday', 'is_weekend'], drop_first=True, dtype='int8')\n",
    "merged_df.head()"
   ]
  },
  {
   "cell_type": "code",
   "execution_count": 322,
   "metadata": {},
   "outputs": [
    {
     "data": {
      "text/html": [
       "<div>\n",
       "<style scoped>\n",
       "    .dataframe tbody tr th:only-of-type {\n",
       "        vertical-align: middle;\n",
       "    }\n",
       "\n",
       "    .dataframe tbody tr th {\n",
       "        vertical-align: top;\n",
       "    }\n",
       "\n",
       "    .dataframe thead th {\n",
       "        text-align: right;\n",
       "    }\n",
       "</style>\n",
       "<table border=\"1\" class=\"dataframe\">\n",
       "  <thead>\n",
       "    <tr style=\"text-align: right;\">\n",
       "      <th></th>\n",
       "      <th>order_id</th>\n",
       "      <th>Trip Origin</th>\n",
       "      <th>Trip Destination</th>\n",
       "      <th>Trip Start Time</th>\n",
       "      <th>Trip End Time</th>\n",
       "      <th>driver_id</th>\n",
       "      <th>lat</th>\n",
       "      <th>lng</th>\n",
       "      <th>hour</th>\n",
       "      <th>Day of Week</th>\n",
       "      <th>...</th>\n",
       "      <th>End Day</th>\n",
       "      <th>End Month</th>\n",
       "      <th>End Year</th>\n",
       "      <th>Trip Duration</th>\n",
       "      <th>Start Lat</th>\n",
       "      <th>Start Lng</th>\n",
       "      <th>End Lat</th>\n",
       "      <th>End Lng</th>\n",
       "      <th>driver_action_rejected</th>\n",
       "      <th>is_weekend_True</th>\n",
       "    </tr>\n",
       "  </thead>\n",
       "  <tbody>\n",
       "    <tr>\n",
       "      <th>0</th>\n",
       "      <td>392001</td>\n",
       "      <td>6.6010417,3.2766339</td>\n",
       "      <td>6.4501069,3.3916154</td>\n",
       "      <td>2021-07-01 09:30:59</td>\n",
       "      <td>2021-07-01 09:34:36</td>\n",
       "      <td>243828</td>\n",
       "      <td>6.602</td>\n",
       "      <td>3.270</td>\n",
       "      <td>9</td>\n",
       "      <td>3</td>\n",
       "      <td>...</td>\n",
       "      <td>1</td>\n",
       "      <td>7</td>\n",
       "      <td>2021</td>\n",
       "      <td>0.000</td>\n",
       "      <td>0.775</td>\n",
       "      <td>0.303</td>\n",
       "      <td>0.813</td>\n",
       "      <td>0.314</td>\n",
       "      <td>0</td>\n",
       "      <td>0</td>\n",
       "    </tr>\n",
       "    <tr>\n",
       "      <th>1</th>\n",
       "      <td>392001</td>\n",
       "      <td>6.6010417,3.2766339</td>\n",
       "      <td>6.4501069,3.3916154</td>\n",
       "      <td>2021-07-01 09:30:59</td>\n",
       "      <td>2021-07-01 09:34:36</td>\n",
       "      <td>243588</td>\n",
       "      <td>6.592</td>\n",
       "      <td>3.287</td>\n",
       "      <td>9</td>\n",
       "      <td>3</td>\n",
       "      <td>...</td>\n",
       "      <td>1</td>\n",
       "      <td>7</td>\n",
       "      <td>2021</td>\n",
       "      <td>0.000</td>\n",
       "      <td>0.775</td>\n",
       "      <td>0.303</td>\n",
       "      <td>0.813</td>\n",
       "      <td>0.314</td>\n",
       "      <td>1</td>\n",
       "      <td>0</td>\n",
       "    </tr>\n",
       "    <tr>\n",
       "      <th>2</th>\n",
       "      <td>392001</td>\n",
       "      <td>6.6010417,3.2766339</td>\n",
       "      <td>6.4501069,3.3916154</td>\n",
       "      <td>2021-07-01 09:30:59</td>\n",
       "      <td>2021-07-01 09:34:36</td>\n",
       "      <td>243830</td>\n",
       "      <td>6.596</td>\n",
       "      <td>3.282</td>\n",
       "      <td>9</td>\n",
       "      <td>3</td>\n",
       "      <td>...</td>\n",
       "      <td>1</td>\n",
       "      <td>7</td>\n",
       "      <td>2021</td>\n",
       "      <td>0.000</td>\n",
       "      <td>0.775</td>\n",
       "      <td>0.303</td>\n",
       "      <td>0.813</td>\n",
       "      <td>0.314</td>\n",
       "      <td>1</td>\n",
       "      <td>0</td>\n",
       "    </tr>\n",
       "    <tr>\n",
       "      <th>3</th>\n",
       "      <td>392001</td>\n",
       "      <td>6.6010417,3.2766339</td>\n",
       "      <td>6.4501069,3.3916154</td>\n",
       "      <td>2021-07-01 09:30:59</td>\n",
       "      <td>2021-07-01 09:34:36</td>\n",
       "      <td>243539</td>\n",
       "      <td>6.596</td>\n",
       "      <td>3.281</td>\n",
       "      <td>9</td>\n",
       "      <td>3</td>\n",
       "      <td>...</td>\n",
       "      <td>1</td>\n",
       "      <td>7</td>\n",
       "      <td>2021</td>\n",
       "      <td>0.000</td>\n",
       "      <td>0.775</td>\n",
       "      <td>0.303</td>\n",
       "      <td>0.813</td>\n",
       "      <td>0.314</td>\n",
       "      <td>1</td>\n",
       "      <td>0</td>\n",
       "    </tr>\n",
       "    <tr>\n",
       "      <th>4</th>\n",
       "      <td>392001</td>\n",
       "      <td>6.6010417,3.2766339</td>\n",
       "      <td>6.4501069,3.3916154</td>\n",
       "      <td>2021-07-01 09:30:59</td>\n",
       "      <td>2021-07-01 09:34:36</td>\n",
       "      <td>171653</td>\n",
       "      <td>6.609</td>\n",
       "      <td>3.289</td>\n",
       "      <td>9</td>\n",
       "      <td>3</td>\n",
       "      <td>...</td>\n",
       "      <td>1</td>\n",
       "      <td>7</td>\n",
       "      <td>2021</td>\n",
       "      <td>0.000</td>\n",
       "      <td>0.775</td>\n",
       "      <td>0.303</td>\n",
       "      <td>0.813</td>\n",
       "      <td>0.314</td>\n",
       "      <td>1</td>\n",
       "      <td>0</td>\n",
       "    </tr>\n",
       "  </tbody>\n",
       "</table>\n",
       "<p>5 rows × 26 columns</p>\n",
       "</div>"
      ],
      "text/plain": [
       "   order_id          Trip Origin     Trip Destination     Trip Start Time  \\\n",
       "0    392001  6.6010417,3.2766339  6.4501069,3.3916154 2021-07-01 09:30:59   \n",
       "1    392001  6.6010417,3.2766339  6.4501069,3.3916154 2021-07-01 09:30:59   \n",
       "2    392001  6.6010417,3.2766339  6.4501069,3.3916154 2021-07-01 09:30:59   \n",
       "3    392001  6.6010417,3.2766339  6.4501069,3.3916154 2021-07-01 09:30:59   \n",
       "4    392001  6.6010417,3.2766339  6.4501069,3.3916154 2021-07-01 09:30:59   \n",
       "\n",
       "        Trip End Time  driver_id   lat   lng  hour  Day of Week  ...  End Day  \\\n",
       "0 2021-07-01 09:34:36     243828 6.602 3.270     9            3  ...        1   \n",
       "1 2021-07-01 09:34:36     243588 6.592 3.287     9            3  ...        1   \n",
       "2 2021-07-01 09:34:36     243830 6.596 3.282     9            3  ...        1   \n",
       "3 2021-07-01 09:34:36     243539 6.596 3.281     9            3  ...        1   \n",
       "4 2021-07-01 09:34:36     171653 6.609 3.289     9            3  ...        1   \n",
       "\n",
       "   End Month  End Year  Trip Duration  Start Lat  Start Lng  End Lat  End Lng  \\\n",
       "0          7      2021          0.000      0.775      0.303    0.813    0.314   \n",
       "1          7      2021          0.000      0.775      0.303    0.813    0.314   \n",
       "2          7      2021          0.000      0.775      0.303    0.813    0.314   \n",
       "3          7      2021          0.000      0.775      0.303    0.813    0.314   \n",
       "4          7      2021          0.000      0.775      0.303    0.813    0.314   \n",
       "\n",
       "   driver_action_rejected  is_weekend_True  \n",
       "0                       0                0  \n",
       "1                       1                0  \n",
       "2                       1                0  \n",
       "3                       1                0  \n",
       "4                       1                0  \n",
       "\n",
       "[5 rows x 26 columns]"
      ]
     },
     "execution_count": 322,
     "metadata": {},
     "output_type": "execute_result"
    }
   ],
   "source": [
    "# Scaling numerical features\n",
    "from sklearn.preprocessing import MinMaxScaler\n",
    "\n",
    "# Select numerical features to scale\n",
    "numerical_features = ['Trip Duration', 'Start Lat', 'Start Lng', 'End Lat', 'End Lng']\n",
    "\n",
    "# Initialize the scaler\n",
    "scaler = MinMaxScaler()\n",
    "\n",
    "# Fit and transform the numerical features\n",
    "scaled_features = scaler.fit_transform(merged_df[numerical_features])\n",
    "\n",
    "# Create a DataFrame with the scaled features\n",
    "scaled_df = pd.DataFrame(scaled_features, columns=numerical_features)\n",
    "\n",
    "# Replace the original numerical features with the scaled ones\n",
    "merged_df[numerical_features] = scaled_df\n",
    "\n",
    "# Display the first few rows of the scaled dataframe\n",
    "merged_df.head()"
   ]
  },
  {
   "cell_type": "code",
   "execution_count": 323,
   "metadata": {},
   "outputs": [
    {
     "data": {
      "image/png": "[encoded data removed]",
      "text/html": [
       "<img style=\"margin: auto; border:1px solid\" src='data:image/png;base64,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'/>"
      ],
      "text/plain": [
       "<xarray.Image (End Lng: 600, End Lat: 800)> Size: 2MB\n",
       "array([[4293054374,          0,          0, ...,          0,          0,\n",
       "                 0],\n",
       "       [         0,          0,          0, ...,          0,          0,\n",
       "                 0],\n",
       "       [         0,          0,          0, ...,          0,          0,\n",
       "                 0],\n",
       "       ...,\n",
       "       [         0,          0,          0, ...,          0,          0,\n",
       "                 0],\n",
       "       [         0,          0,          0, ...,          0,          0,\n",
       "                 0],\n",
       "       [         0,          0,          0, ...,          0,          0,\n",
       "        4293318829]], dtype=uint32)\n",
       "Coordinates:\n",
       "  * End Lat  (End Lat) float64 6kB 0.000625 0.001875 0.003125 ... 0.9981 0.9994\n",
       "  * End Lng  (End Lng) float64 5kB 0.0008333 0.0025 0.004167 ... 0.9975 0.9992"
      ]
     },
     "execution_count": 323,
     "metadata": {},
     "output_type": "execute_result"
    }
   ],
   "source": [
    "cvs = ds.Canvas(plot_width=800, plot_height=600)\n",
    "# Aggregate the data\n",
    "agg = cvs.points(merged_df, \"End Lat\", \"End Lng\")\n",
    "# Transfer function\n",
    "img = tf.shade(agg)\n",
    "# Display the image\n",
    "img"
   ]
  },
  {
   "cell_type": "code",
   "execution_count": 324,
   "metadata": {},
   "outputs": [
    {
     "data": {
      "image/png": "[encoded data removed]",
      "text/html": [
       "<img style=\"margin: auto; border:1px solid\" src='data:image/png;base64,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'/>"
      ],
      "text/plain": [
       "<xarray.Image (Start Lng: 300, Start Lat: 600)> Size: 720kB\n",
       "array([[4278190080,          0,          0, ...,          0,          0,\n",
       "                 0],\n",
       "       [         0,          0,          0, ...,          0,          0,\n",
       "                 0],\n",
       "       [         0,          0,          0, ...,          0,          0,\n",
       "                 0],\n",
       "       ...,\n",
       "       [         0,          0,          0, ...,          0,          0,\n",
       "                 0],\n",
       "       [         0,          0,          0, ...,          0,          0,\n",
       "                 0],\n",
       "       [         0,          0,          0, ...,          0,          0,\n",
       "                 0]], dtype=uint32)\n",
       "Coordinates:\n",
       "  * Start Lat  (Start Lat) float64 5kB 0.0008333 0.0025 ... 0.9975 0.9992\n",
       "  * Start Lng  (Start Lng) float64 2kB 0.001667 0.005 0.008333 ... 0.995 0.9983"
      ]
     },
     "execution_count": 324,
     "metadata": {},
     "output_type": "execute_result"
    }
   ],
   "source": [
    "cvs = ds.Canvas(plot_width=600, plot_height=300)\n",
    "agg = cvs.points(merged_df, 'Start Lat', 'Start Lng')\n",
    "img = ds.tf.shade(agg, cmap=colorcet.fire, how='log')\n",
    "img"
   ]
  },
  {
   "cell_type": "code",
   "execution_count": 325,
   "metadata": {},
   "outputs": [],
   "source": [
    "import hvplot.pandas\n",
    "import panel as pn\n",
    "scatter_plot = merged_df.hvplot.scatter(x='Start Lat', y='Start Lng')"
   ]
  },
  {
   "cell_type": "code",
   "execution_count": 326,
   "metadata": {},
   "outputs": [
    {
     "data": {
      "application/vnd.jupyter.widget-view+json": {
       "model_id": "956e73209eb04e04a183a04f6980ac9e",
       "version_major": 2,
       "version_minor": 0
      },
      "text/plain": [
       "BokehModel(combine_events=True, render_bundle={'docs_json': {'9c3a59d6-2188-476f-a141-fc09a73eb86d': {'version…"
      ]
     },
     "execution_count": 326,
     "metadata": {},
     "output_type": "execute_result"
    }
   ],
   "source": [
    "dashboard = pn.Column(\n",
    "    'Panel Visualization Dashboard',\n",
    "    scatter_plot\n",
    "    )\n",
    "dashboard.servable(title='Panel Visualization Dashboard')"
   ]
  },
  {
   "cell_type": "markdown",
   "metadata": {},
   "source": [
    "## Model Building\n",
    "\n",
    "#### Data Preparation for modeling (Logistic Regression)"
   ]
  },
  {
   "cell_type": "code",
   "execution_count": 327,
   "metadata": {},
   "outputs": [
    {
     "name": "stdout",
     "output_type": "stream",
     "text": [
      "<class 'pandas.core.frame.DataFrame'>\n",
      "Index: 1555718 entries, 0 to 1557739\n",
      "Data columns (total 26 columns):\n",
      " #   Column                  Non-Null Count    Dtype         \n",
      "---  ------                  --------------    -----         \n",
      " 0   order_id                1555718 non-null  int64         \n",
      " 1   Trip Origin             1555718 non-null  object        \n",
      " 2   Trip Destination        1555718 non-null  object        \n",
      " 3   Trip Start Time         1555718 non-null  datetime64[ns]\n",
      " 4   Trip End Time           1555718 non-null  datetime64[ns]\n",
      " 5   driver_id               1555718 non-null  int64         \n",
      " 6   lat                     1555718 non-null  float64       \n",
      " 7   lng                     1555718 non-null  float64       \n",
      " 8   hour                    1555718 non-null  int64         \n",
      " 9   Day of Week             1555718 non-null  int32         \n",
      " 10  Is Weekend              1555718 non-null  bool          \n",
      " 11  Start Hour              1555718 non-null  int32         \n",
      " 12  Start Day               1555718 non-null  int32         \n",
      " 13  Start Month             1555718 non-null  int32         \n",
      " 14  Start Year              1555718 non-null  int32         \n",
      " 15  End Hour                1555718 non-null  int32         \n",
      " 16  End Day                 1555718 non-null  int32         \n",
      " 17  End Month               1555718 non-null  int32         \n",
      " 18  End Year                1555718 non-null  int32         \n",
      " 19  Trip Duration           1553696 non-null  float64       \n",
      " 20  Start Lat               1553696 non-null  float64       \n",
      " 21  Start Lng               1553696 non-null  float64       \n",
      " 22  End Lat                 1553696 non-null  float64       \n",
      " 23  End Lng                 1553696 non-null  float64       \n",
      " 24  driver_action_rejected  1555718 non-null  int8          \n",
      " 25  is_weekend_True         1555718 non-null  int8          \n",
      "dtypes: bool(1), datetime64[ns](2), float64(7), int32(9), int64(3), int8(2), object(2)\n",
      "memory usage: 235.9+ MB\n"
     ]
    }
   ],
   "source": [
    "# create copies of our datasets \n",
    "merged_df1= merged_df.copy()\n",
    "merged_df1.info()"
   ]
  },
  {
   "cell_type": "code",
   "execution_count": 328,
   "metadata": {},
   "outputs": [
    {
     "name": "stdout",
     "output_type": "stream",
     "text": [
      "(1089002, 18) (466716, 18)\n"
     ]
    }
   ],
   "source": [
    "X = merged_df1.drop([\"driver_action_rejected\", \"order_id\", \"driver_id\", \"Is Weekend\", \"Trip Origin\", \"Trip Destination\", \"Trip Start Time\", \"Trip End Time\"], axis=1)\n",
    "y = merged_df1[\"driver_action_rejected\"]\n",
    "\n",
    "\n",
    "# Splitting data into training and test set:\n",
    "X_train, X_test, y_train, y_test =train_test_split(X, y, test_size=0.3, random_state=1,stratify=y)\n",
    "print(X_train.shape, X_test.shape)"
   ]
  },
  {
   "cell_type": "code",
   "execution_count": 329,
   "metadata": {},
   "outputs": [
    {
     "data": {
      "text/plain": [
       "driver_action_rejected\n",
       "1   0.983\n",
       "0   0.017\n",
       "Name: proportion, dtype: float64"
      ]
     },
     "execution_count": 329,
     "metadata": {},
     "output_type": "execute_result"
    }
   ],
   "source": [
    "y_test.value_counts(1)"
   ]
  },
  {
   "cell_type": "markdown",
   "metadata": {},
   "source": [
    "## Model evaluation criterion"
   ]
  },
  {
   "cell_type": "code",
   "execution_count": 330,
   "metadata": {},
   "outputs": [],
   "source": [
    "# defining a function to compute different metrics to check performance of a classification model built using sklearn\n",
    "def model_performance_classification_sklearn(model, predictors, target):\n",
    "    \"\"\"\n",
    "    Function to compute different metrics to check classification model performance\n",
    "\n",
    "    model: classifier\n",
    "    predictors: independent variables\n",
    "    target: dependent variable\n",
    "    \"\"\"\n",
    "\n",
    "    # predicting using the independent variables\n",
    "    pred = model.predict(predictors)\n",
    "\n",
    "    acc = accuracy_score(target, pred)  # to compute Accuracy\n",
    "    recall = recall_score(target, pred)  # to compute Recall\n",
    "    precision = precision_score(target, pred)  # to compute Precision\n",
    "    f1 = f1_score(target, pred)  # to compute F1-score\n",
    "\n",
    "    # creating a dataframe of metrics\n",
    "    df_perf = pd.DataFrame(\n",
    "        {\n",
    "            \"Accuracy\": acc,\n",
    "            \"Recall\": recall,\n",
    "            \"Precision\": precision,\n",
    "            \"F1\": f1,\n",
    "        },\n",
    "        index=[0],\n",
    "    )\n",
    "\n",
    "    return df_perf"
   ]
  },
  {
   "cell_type": "code",
   "execution_count": 331,
   "metadata": {},
   "outputs": [],
   "source": [
    "def confusion_matrix_sklearn(model, predictors, target):\n",
    "    \"\"\"\n",
    "    To plot the confusion_matrix with percentages\n",
    "\n",
    "    model: classifier\n",
    "    predictors: independent variables\n",
    "    target: dependent variable\n",
    "    \"\"\"\n",
    "    y_pred = model.predict(predictors)\n",
    "    cm = confusion_matrix(target, y_pred)\n",
    "    labels = np.asarray(\n",
    "        [\n",
    "            [\"{0:0.0f}\".format(item) + \"\\n{0:.2%}\".format(item / cm.flatten().sum())]\n",
    "            for item in cm.flatten()\n",
    "        ]\n",
    "    ).reshape(2, 2)\n",
    "\n",
    "    plt.figure(figsize=(6, 4))\n",
    "    sns.heatmap(cm, annot=labels, fmt=\"\")\n",
    "    plt.ylabel(\"True label\")\n",
    "    plt.xlabel(\"Predicted label\")"
   ]
  },
  {
   "cell_type": "markdown",
   "metadata": {},
   "source": [
    "### Building bagging and boosting models"
   ]
  },
  {
   "cell_type": "markdown",
   "metadata": {},
   "source": [
    "#### Random Forest Classifier"
   ]
  },
  {
   "cell_type": "code",
   "execution_count": 332,
   "metadata": {},
   "outputs": [
    {
     "name": "stdout",
     "output_type": "stream",
     "text": [
      "Training performance:\n",
      "    Accuracy  Recall  Precision    F1\n",
      "0     0.998   1.000      0.998 0.999\n",
      "Testing performance:\n",
      "    Accuracy  Recall  Precision    F1\n",
      "0     0.981   0.997      0.983 0.990\n"
     ]
    },
    {
     "data": {
      "image/png": "[encoded data removed]",
      "text/plain": [
       "<Figure size 600x400 with 2 Axes>"
      ]
     },
     "metadata": {},
     "output_type": "display_data"
    }
   ],
   "source": [
    "#Fitting the model\n",
    "rf_estimator = RandomForestClassifier(random_state=1)\n",
    "rf_estimator.fit(X_train,y_train)\n",
    "\n",
    "#Calculating different metrics\n",
    "rf_estimator_model_train_perf=model_performance_classification_sklearn(rf_estimator,X_train,y_train)\n",
    "print(\"Training performance:\\n\",rf_estimator_model_train_perf)\n",
    "rf_estimator_model_test_perf=model_performance_classification_sklearn(rf_estimator,X_test,y_test)\n",
    "print(\"Testing performance:\\n\",rf_estimator_model_test_perf)\n",
    "\n",
    "#Creating confusion matrix\n",
    "confusion_matrix_sklearn(rf_estimator,X_test,y_test)"
   ]
  },
  {
   "cell_type": "markdown",
   "metadata": {},
   "source": [
    "- Model is giving a generalized performance, however it is slightly overfitting.\n"
   ]
  },
  {
   "cell_type": "markdown",
   "metadata": {},
   "source": [
    "### Feature importance of Random Forest with Default Parameters"
   ]
  },
  {
   "cell_type": "code",
   "execution_count": 333,
   "metadata": {},
   "outputs": [
    {
     "data": {
      "image/png": "[encoded data removed]",
      "text/plain": [
       "<Figure size 1200x1200 with 1 Axes>"
      ]
     },
     "metadata": {},
     "output_type": "display_data"
    }
   ],
   "source": [
    "feature_names = X_train.columns\n",
    "importances = rf_estimator.feature_importances_\n",
    "indices = np.argsort(importances)\n",
    "\n",
    "plt.figure(figsize=(12,12))\n",
    "plt.title('Feature Importances')\n",
    "plt.barh(range(len(indices)), importances[indices], color='violet', align='center')\n",
    "plt.yticks(range(len(indices)), [feature_names[i] for i in indices])\n",
    "plt.xlabel('Relative Importance')\n",
    "plt.show()"
   ]
  },
  {
   "cell_type": "markdown",
   "metadata": {},
   "source": [
    "- Lat & Lng are the most important features, followed by trip duration."
   ]
  },
  {
   "cell_type": "markdown",
   "metadata": {},
   "source": [
    "## Actionable Insights and Recommendations"
   ]
  },
  {
   "cell_type": "markdown",
   "metadata": {},
   "source": [
    "### Insights\n",
    "-\n",
    "-\n",
    "-\n",
    "-\n",
    "-\n",
    "-"
   ]
  },
  {
   "cell_type": "markdown",
   "metadata": {},
   "source": [
    "### Business Recommendations\n",
    "-\n",
    "-\n",
    "-\n",
    "-\n",
    "-\n",
    "-\n"
   ]
  }
 ],
 "metadata": {
  "kernelspec": {
   "display_name": "myenv",
   "language": "python",
   "name": "python3"
  },
  "language_info": {
   "codemirror_mode": {
    "name": "ipython",
    "version": 3
   },
   "file_extension": ".py",
   "mimetype": "text/x-python",
   "name": "python",
   "nbconvert_exporter": "python",
   "pygments_lexer": "ipython3",
   "version": "3.11.4"
  }
 },
 "nbformat": 4,
 "nbformat_minor": 2
}
